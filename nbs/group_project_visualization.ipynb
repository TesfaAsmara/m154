{
 "cells": [
  {
   "cell_type": "code",
   "execution_count": 1,
   "id": "0104c18a",
   "metadata": {},
   "outputs": [],
   "source": [
    "import networkx as nx\n",
    "import pandas as pd\n",
    "import matplotlib.pyplot as plt\n",
    "from node2vec import Node2Vec\n",
    "import numpy as np\n",
    "from sklearn.decomposition import PCA\n",
    "from collections import Counter"
   ]
  },
  {
   "cell_type": "code",
   "execution_count": 2,
   "id": "62c68070",
   "metadata": {},
   "outputs": [],
   "source": [
    "df = pd.read_csv(\"~/project/GitHub/m154/nbs/data/GiveMeSomeCredit/cs-training.csv\")\n",
    "#print(df)\n",
    "#print(df.dropna())\n",
    "\n",
    "# Remove the rows with NA's\n",
    "df = df.dropna()\n",
    "# Let's work with 500 rows\n",
    "df = df.iloc[0:500, :]"
   ]
  },
  {
   "cell_type": "code",
   "execution_count": 3,
   "id": "505a45f5",
   "metadata": {},
   "outputs": [],
   "source": [
    "Graphtype = nx.Graph()\n",
    "Graph = nx.from_pandas_edgelist(df, \"SeriousDlqin2yrs\", 'MonthlyIncome', edge_attr=True, create_using=Graphtype)\n",
    "#pos = nx.spring_layout(Graph, scale=1)\n",
    "#nx.draw(Graph, pos, with_labels=True)\n",
    "#plt.show()"
   ]
  },
  {
   "cell_type": "code",
   "execution_count": null,
   "id": "4037e268",
   "metadata": {},
   "outputs": [
    {
     "data": {
      "application/vnd.jupyter.widget-view+json": {
       "model_id": "43052edcbd724cfca1d2b571fa6f8fd9",
       "version_major": 2,
       "version_minor": 0
      },
      "text/plain": [
       "Computing transition probabilities:   0%|          | 0/336 [00:00<?, ?it/s]"
      ]
     },
     "metadata": {},
     "output_type": "display_data"
    },
    {
     "name": "stderr",
     "output_type": "stream",
     "text": [
      "Generating walks (CPU: 1): 100%|██████████████████████████████████████████████████████████████████████████████████████████████████████████████████| 200/200 [02:00<00:00,  1.66it/s]\n"
     ]
    }
   ],
   "source": [
    "num_nodes = len(df['age'])\n",
    "node2vec_model = Node2Vec(Graph, dimensions=64, walk_length=30, num_walks=200) \n",
    "model = node2vec_model.fit(window=10,min_count = 1, batch_words=4)"
   ]
  },
  {
   "cell_type": "code",
   "execution_count": null,
   "id": "aa91604b",
   "metadata": {},
   "outputs": [],
   "source": [
    "emb=model.wv[[i for i in model.wv.key_to_index]]\n",
    "emb.shape"
   ]
  },
  {
   "cell_type": "code",
   "execution_count": null,
   "id": "0749f616",
   "metadata": {},
   "outputs": [],
   "source": [
    "def plot_embeddings(emb, num_nodes, title=\"\"):\n",
    "    if emb.shape[1] > 2:\n",
    "        pca = PCA(n_components=2)\n",
    "        emb= pca.fit_transform(emb)\n",
    "    plt.figure()\n",
    "    sc = plt.scatter(emb[:,0], emb[:,1])\n",
    "    plt.legend(handles = sc.legend_elements()[0], title=\"Clusters\")\n",
    "    plt.suptitle(title)\n",
    "    plt.show()"
   ]
  },
  {
   "cell_type": "code",
   "execution_count": null,
   "id": "c8fd895f",
   "metadata": {},
   "outputs": [],
   "source": [
    "plot_embeddings(emb, 338)"
   ]
  },
  {
   "cell_type": "code",
   "execution_count": null,
   "id": "058a46e4",
   "metadata": {},
   "outputs": [],
   "source": []
  }
 ],
 "metadata": {
  "kernelspec": {
   "display_name": "Python [conda env:m154] *",
   "language": "python",
   "name": "conda-env-m154-py"
  },
  "language_info": {
   "codemirror_mode": {
    "name": "ipython",
    "version": 3
   },
   "file_extension": ".py",
   "mimetype": "text/x-python",
   "name": "python",
   "nbconvert_exporter": "python",
   "pygments_lexer": "ipython3",
   "version": "3.7.7"
  }
 },
 "nbformat": 4,
 "nbformat_minor": 5
}
