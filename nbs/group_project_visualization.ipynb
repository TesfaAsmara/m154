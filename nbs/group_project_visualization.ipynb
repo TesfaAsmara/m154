{
 "cells": [
  {
   "cell_type": "code",
   "execution_count": null,
   "id": "0104c18a",
   "metadata": {},
   "outputs": [],
   "source": [
    "import networkx as nx\n",
    "import pandas as pd\n",
    "import matplotlib.pyplot as plt\n",
    "from node2vec import Node2Vec\n",
    "import numpy as np\n",
    "from sklearn.decomposition import PCA\n",
    "from collections import Counter"
   ]
  },
  {
   "cell_type": "code",
   "execution_count": null,
   "id": "62c68070",
   "metadata": {},
   "outputs": [],
   "source": [
    "df = pd.read_csv(\"~/project/GitHub/m154/nbs/data/GiveMeSomeCredit/cs-training.csv\")\n",
    "#print(df)\n",
    "#print(df.dropna())\n",
    "df = df.dropna()"
   ]
  },
  {
   "cell_type": "code",
   "execution_count": null,
   "id": "505a45f5",
   "metadata": {},
   "outputs": [],
   "source": [
    "Graphtype = nx.Graph()\n",
    "Graph = nx.from_pandas_edgelist(df, \"SeriousDlqin2yrs\", 'MonthlyIncome', edge_attr=True, create_using=Graphtype)\n",
    "#pos = nx.spring_layout(Graph, scale=1)\n",
    "#nx.draw(Graph, pos, with_labels=True)\n",
    "#plt.show()"
   ]
  },
  {
   "cell_type": "code",
   "execution_count": null,
   "id": "4037e268",
   "metadata": {},
   "outputs": [
    {
     "data": {
      "application/vnd.jupyter.widget-view+json": {
       "model_id": "d193173ca3ac44af84848721b0bfa5bb",
       "version_major": 2,
       "version_minor": 0
      },
      "text/plain": [
       "Computing transition probabilities:   0%|          | 0/13594 [00:00<?, ?it/s]"
      ]
     },
     "metadata": {},
     "output_type": "display_data"
    }
   ],
   "source": [
    "num_nodes = len(df['age'])\n",
    "node2vec_model = Node2Vec(Graph, dimensions=2, p=1, q=1, walk_length=20, num_walks=20, workers=100)\n",
    "model = node2vec_model.fit(window=1)"
   ]
  },
  {
   "cell_type": "code",
   "execution_count": null,
   "id": "aa91604b",
   "metadata": {},
   "outputs": [],
   "source": [
    "emb=model.wv[[str(i) for i in range(num_nodes)]]\n",
    "emb.shape"
   ]
  },
  {
   "cell_type": "code",
   "execution_count": null,
   "id": "0749f616",
   "metadata": {},
   "outputs": [],
   "source": [
    "def plot_embeddings(emb, num_nodes, title=\"\"):\n",
    "    clusters = df[\"MonthlyIncome\"]\n",
    "    num_clusters = len(Counter(clusters).keys())\n",
    "    if emb.shape[1] > 2:\n",
    "        pca = PCA(n_components=2)\n",
    "        emb= pca.fit_transform(emb)\n",
    "    plt.figure()\n",
    "    sc = plt.scatter(emb[:,0], emb[:,1], c=clusters, cmap=\"Dark2\")\n",
    "    plt.legend(handles = sc.legend_elements()[0], title=\"Clusters\", labels=list(range(num_clusters)))\n",
    "    plt.suptitle(title)\n",
    "    plt.show()"
   ]
  }
 ],
 "metadata": {
  "kernelspec": {
   "display_name": "Python [conda env:m154] *",
   "language": "python",
   "name": "conda-env-m154-py"
  }
 },
 "nbformat": 4,
 "nbformat_minor": 5
}
