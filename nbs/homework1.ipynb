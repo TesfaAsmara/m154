{
 "cells": [
  {
   "cell_type": "code",
   "execution_count": 1,
   "id": "797cf48d",
   "metadata": {},
   "outputs": [
    {
     "name": "stdout",
     "output_type": "stream",
     "text": [
      "Loaded rpy2\n"
     ]
    },
    {
     "name": "stderr",
     "output_type": "stream",
     "text": [
      "/gpfs/ysm/project/sumry2022/sumry2022_ta483/conda_envs/m154/lib/python3.7/site-packages/rpy2/robjects/pandas2ri.py:17: FutureWarning: pandas.core.index is deprecated and will be removed in a future version.  The public classes are available in the top-level namespace.\n",
      "  from pandas.core.index import Index as PandasIndex\n"
     ]
    }
   ],
   "source": [
    "import sys\n",
    "import numpy as np\n",
    "if \"rpy2.ipython\" not in sys.modules:\n",
    "    %load_ext rpy2.ipython\n",
    "    print(\"Loaded rpy2\")\n",
    "else:\n",
    "    %reload_ext rpy2.ipython\n",
    "    print(\"Reloaded rpy2\")"
   ]
  },
  {
   "cell_type": "raw",
   "id": "e83370a2",
   "metadata": {},
   "source": [
    "# 1. Math on a computer \n",
    "Compute machine-$\\epsilon$ for your version of R. Machine-$\\epsilon$ here is defined to be\n",
    "the smallest number that can be added to 1 for which your computer recognizes\n",
    "the sum to be larger than 1. Submit the value and the code."
   ]
  },
  {
   "cell_type": "markdown",
   "id": "b1c17bab",
   "metadata": {},
   "source": [
    "Machine epsilon equals the smallest number such that (1.0 + machine epsilon) != 1.0. "
   ]
  },
  {
   "cell_type": "code",
   "execution_count": 2,
   "id": "72891822",
   "metadata": {},
   "outputs": [
    {
     "name": "stdout",
     "output_type": "stream",
     "text": [
      "2.220446049250313e-16\n"
     ]
    }
   ],
   "source": [
    "a = 1\n",
    "\n",
    "while ((1+a/2) > 1):\n",
    "    a = a/2\n",
    "\n",
    "print(a)"
   ]
  },
  {
   "cell_type": "markdown",
   "id": "ca1b85ef",
   "metadata": {},
   "source": [
    "We can also query this of our operating system."
   ]
  },
  {
   "cell_type": "code",
   "execution_count": 3,
   "id": "e5c5a59d",
   "metadata": {},
   "outputs": [
    {
     "data": {
      "text/plain": [
       "2.220446049250313e-16"
      ]
     },
     "execution_count": 3,
     "metadata": {},
     "output_type": "execute_result"
    }
   ],
   "source": [
    "sys.float_info.epsilon"
   ]
  },
  {
   "cell_type": "markdown",
   "id": "913a1ceb",
   "metadata": {},
   "source": [
    "If you subtract the binary representation of 4/3 from 7/3, then you also get the definition of machine epsilon."
   ]
  },
  {
   "cell_type": "code",
   "execution_count": 4,
   "id": "355ca45b",
   "metadata": {},
   "outputs": [
    {
     "data": {
      "text/plain": [
       "2.220446049250313e-16"
      ]
     },
     "execution_count": 4,
     "metadata": {},
     "output_type": "execute_result"
    }
   ],
   "source": [
    "7/3 - 4/3 - 1"
   ]
  },
  {
   "cell_type": "raw",
   "id": "2dcbe33e",
   "metadata": {},
   "source": [
    "# 2. \"Nearest Neighbor\" neighborhoods\n",
    "In lecture 3, we discussed the BIAS-Variance trade-off as a function of the bandwidth $h$.  Notice that for a given problem, we don't actually have control over either of these quantities.  The variance depends on the density of the $x_i$ values near the point of interest $x$ (more points=less variance in the pointwise estimate) and the bias depends on properties of the underlying function we are trying to estimate.  We can move from the idea of bandwidth to defining the neighborhood in a different way, fixing the number of points that are considered in the local average.  Rather than have a value $h$ defining our window, we would now have a value $k$ (where we use the $k$ nearest points or we can have a symmetric window, using the $k/2$ nearest points on either side).  Code up whichever of these ideas you prefer and present an estimate of the regression data we considered in lecture 3, with a value of $k$ that you like.  *sort()* will be a useful function here. \n",
    "\n",
    "```{r}\n",
    "x <- runif(10)\n",
    "x  #raw data\n",
    "sort(x)  #ordered (increasing) data\n",
    "```\n",
    "\n",
    "Write a paragraph discussing what you did above, as well as the merits of using the $k$ nearest neighbors vs the symmetric neighborhood.  Does it make a difference?  Is one obviously preferable to the other (regardless of which you decided to code up).  "
   ]
  },
  {
   "cell_type": "code",
   "execution_count": 5,
   "id": "c6bbfbc0",
   "metadata": {},
   "outputs": [],
   "source": [
    "from collections import Counter\n",
    "def euclidean_distance(x1, x2):\n",
    "    return np.sqrt(np.sum((x1-x2)**2)) \n",
    "\n",
    "class KNN:\n",
    "    \n",
    "    def __init__(self, k=3):\n",
    "        # k is the number of nearest neighbors we want to consider\n",
    "        # the default is 3\n",
    "        self.k = k\n",
    "\n",
    "    def fit(self, X, y):\n",
    "    #     Following the conventions of the scikit-learn library,\n",
    "    #     I have a fit method. This will fit the training samples and\n",
    "    #     training labels. This will usally involve the training step.\n",
    "    \n",
    "    #     Let us store our training variables\n",
    "        self.X_train = X\n",
    "        self.y_train = y\n",
    "    \n",
    "    def predict(self, X):\n",
    "        predicted_labels = [self._predict(X) for x in X]\n",
    "        return np.array(predicted_labels)\n",
    "    \n",
    "    def _predict(self, x):\n",
    "        # We want to compute the distances\n",
    "        distances = [euclidean_distance(x, x_train) for x_train in self.X_train]\n",
    "        \n",
    "        # Then we want to compute the k-nearest samples, labels\n",
    "        k_indices = np.argsort(distances)[: self.k]\n",
    "        k_nearest_labels = [self.y_train[i] for i in k_indices]\n",
    "        \n",
    "        # Then we perform a majority vote to get the most common class label\n",
    "        # The most_common() method returns a list of a tuples. The tuple\n",
    "        # informs you of the most common label and the number of times it appears.\n",
    "        most_common = Counter(k_nearest_labels).most_common(1)\n",
    "        return most_common[0][0]\n",
    "        "
   ]
  },
  {
   "cell_type": "code",
   "execution_count": 6,
   "id": "92abfb1f",
   "metadata": {},
   "outputs": [],
   "source": [
    "from sklearn.model_selection import train_test_split\n",
    "import pandas as pd\n",
    "import matplotlib.pyplot as plt\n",
    "#from matplotlib.colors import ListedColorMap\n",
    "\n",
    "XKCD = pd.read_csv('../XKCD.csv')\n",
    "X, y = XKCD['x'], XKCD['y']\n",
    "X_train, X_test, y_train, y_test = train_test_split(X, y, test_size = 0.2, random_state =1234)"
   ]
  },
  {
   "cell_type": "code",
   "execution_count": 7,
   "id": "718d4f4c",
   "metadata": {},
   "outputs": [],
   "source": [
    "clf = KNN(k=3)\n",
    "clf.fit(X_train, y_train)\n",
    "predictions = clf.predict(X_test)"
   ]
  },
  {
   "cell_type": "code",
   "execution_count": 8,
   "id": "9d424c3b",
   "metadata": {},
   "outputs": [
    {
     "name": "stdout",
     "output_type": "stream",
     "text": [
      "[0.45336454 0.45336454 0.45336454 0.45336454 0.45336454 0.45336454\n",
      " 0.45336454] 7     0.610101\n",
      "10    0.292019\n",
      "4     0.794509\n",
      "1     1.019166\n",
      "29   -0.115251\n",
      "8     0.292875\n",
      "3     0.888440\n",
      "Name: y, dtype: float64\n"
     ]
    }
   ],
   "source": [
    "print(predictions, y_test)"
   ]
  },
  {
   "cell_type": "code",
   "execution_count": 9,
   "id": "3c985d84",
   "metadata": {},
   "outputs": [
    {
     "data": {
      "text/plain": [
       "0.0"
      ]
     },
     "execution_count": 9,
     "metadata": {},
     "output_type": "execute_result"
    }
   ],
   "source": [
    "def accuracy(y_true, y_pred):\n",
    "        accuracy = np.sum(y_true == y_pred) / len(y_true)\n",
    "        return accuracy\n",
    "accuracy(y_test, predictions)"
   ]
  },
  {
   "cell_type": "code",
   "execution_count": 14,
   "id": "9b760808",
   "metadata": {},
   "outputs": [
    {
     "data": {
      "text/plain": [
       "[<matplotlib.lines.Line2D at 0x2b5be442dd50>,\n",
       " <matplotlib.lines.Line2D at 0x2b5be51cf450>]"
      ]
     },
     "execution_count": 14,
     "metadata": {},
     "output_type": "execute_result"
    },
    {
     "data": {
      "image/png": "[encoded data removed]",
      "text/plain": [
       "<Figure size 640x480 with 1 Axes>"
      ]
     },
     "metadata": {},
     "output_type": "display_data"
    }
   ],
   "source": [
    "plt.plot(X_train,y_train,predictions)"
   ]
  },
  {
   "cell_type": "markdown",
   "id": "d4a8a775",
   "metadata": {},
   "source": []
  }
 ],
 "metadata": {
  "kernelspec": {
   "display_name": "Python [conda env:m154] *",
   "language": "python",
   "name": "conda-env-m154-py"
  },
  "language_info": {
   "codemirror_mode": {
    "name": "ipython",
    "version": 3
   },
   "file_extension": ".py",
   "mimetype": "text/x-python",
   "name": "python",
   "nbconvert_exporter": "python",
   "pygments_lexer": "ipython3",
   "version": "3.7.7"
  }
 },
 "nbformat": 4,
 "nbformat_minor": 5
}
