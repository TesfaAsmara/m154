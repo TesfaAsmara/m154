{
 "cells": [
  {
   "cell_type": "code",
   "execution_count": null,
   "metadata": {},
   "outputs": [],
   "source": [
    "#| hide\n",
    "from m154.core import *"
   ]
  },
  {
   "cell_type": "markdown",
   "metadata": {},
   "source": [
    "# m154\n",
    "\n",
    "> Computational Statistics (MATH154 PO-01)"
   ]
  },
  {
   "cell_type": "markdown",
   "metadata": {},
   "source": [
    "## Install"
   ]
  },
  {
   "cell_type": "markdown",
   "metadata": {},
   "source": [
    "To copy this repository onto your computer with [`git`](https://git-scm.com/downloads) installed, run this in your terminal\n",
    "\n",
    "```sh\n",
    "git clone https://github.com/TesfaAsmara/m154.git\n",
    "```\n",
    "\n",
    "If you haven't already, then you'll want to install a package manager (optional) and all necessary packages for running Jupyter notebooks and the included Python code."
   ]
  },
  {
   "cell_type": "markdown",
   "metadata": {},
   "source": [
    "## Table of Contents"
   ]
  },
  {
   "cell_type": "markdown",
   "metadata": {},
   "source": [
    "<!---\n",
    "lab2.html linking works in browser, not in notebook\n",
    "-->\n",
    "1. [Lecture 10 / Lab 2](lab2.html)"
   ]
  }
 ],
 "metadata": {
  "kernelspec": {
   "display_name": "Python 3.10.6 ('m154env')",
   "language": "python",
   "name": "python3"
  },
  "language_info": {
   "name": "python",
   "version": "3.10.6"
  },
  "vscode": {
   "interpreter": {
    "hash": "c6e244dd35c83ee1d23c25d30d19b3f743c34e80fa56282ef16d553800722480"
   }
  }
 },
 "nbformat": 4,
 "nbformat_minor": 4
}
