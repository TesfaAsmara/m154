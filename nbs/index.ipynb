{
 "cells": [
  {
   "cell_type": "code",
   "execution_count": null,
   "metadata": {},
   "outputs": [],
   "source": [
    "#| hide\n",
    "from m154.core import *"
   ]
  },
  {
   "cell_type": "markdown",
   "metadata": {},
   "source": [
    "# m154\n",
    "\n",
    "> Computational Statistics (MATH154 PO-01)"
   ]
  },
  {
   "cell_type": "markdown",
   "metadata": {},
   "source": [
    "## Install"
   ]
  },
  {
   "cell_type": "markdown",
   "metadata": {},
   "source": [
    "To copy this repository onto your computer with [`git`](https://git-scm.com/downloads) installed, run this in your terminal\n",
    "\n",
    "```sh\n",
    "git clone https://github.com/TesfaAsmara/m154.git\n",
    "```\n",
    "\n",
    "If you haven't already, then you'll want to install a package manager (optional) and all necessary packages for running Jupyter notebooks and the included Python code."
   ]
  },
  {
   "cell_type": "markdown",
   "metadata": {},
   "source": [
    "## Table of Contents"
   ]
  },
  {
   "cell_type": "markdown",
   "metadata": {},
   "source": [
    "1. [Lecture 10/Lab 2](lab2.html)"
   ]
  }
 ],
 "metadata": {
  "kernelspec": {
   "display_name": "Python 3 (ipykernel)",
   "language": "python",
   "name": "python3"
  }
 },
 "nbformat": 4,
 "nbformat_minor": 4
}
