{
 "cells": [
  {
   "cell_type": "code",
   "execution_count": null,
   "metadata": {},
   "outputs": [],
   "source": [
    "#| hide"
   ]
  },
  {
   "cell_type": "markdown",
   "metadata": {},
   "source": [
    "# m154\n",
    "\n",
    "> Computational Statistics (MATH154 PO-01)"
   ]
  },
  {
   "cell_type": "markdown",
   "metadata": {},
   "source": [
    "## Table of Contents\n",
    "<!---\n",
    "*.html linking works in browser, but not within the notebook\n",
    "-->\n",
    "1. [Lecture 10 / Lab 2](lab2.html)\n",
    "2. [Homework 3](homework3.html)\n",
    "3. [Group Project](group_project.html)\n",
    "    1. [Getting started](#configuring-a-collaborative-workflow)"
   ]
  },
  {
   "cell_type": "markdown",
   "metadata": {},
   "source": [
    "# Configuring a collaborative workflow\n",
    "\n",
    "We're going to be using Homebrew to install Miniconda, which is a version of a python package manager called Anaconda. If you're working with the M1 Chip, then you have to download from source [here](https://docs.conda.io/en/latest/miniconda.html).\n",
    "\n",
    "Otherwise, you'll need to install [Homebrew](https://brew.sh/). Then, you'll need to install [Miniconda](https://formulae.brew.sh/cask/miniconda).\n",
    "\n",
    "Then you'll need to create an environment for this project. I named my environment `m154env`. \n",
    "\n",
    "```shell\n",
    "conda create -n <environment_name>\n",
    "```\n",
    "\n",
    "You can see the environment that you just created by running\n",
    "\n",
    "```shell\n",
    "conda info --envs\n",
    "```\n",
    "\n",
    "You'll want to activate the conda environment and install [python](https://anaconda.org/conda-forge/python),  [jupyter](https://anaconda.org/conda-forge/jupyter), [notebook](https://anaconda.org/conda-forge/notebook), [rpy2](https://anaconda.org/conda-forge/rpy2), and any R-packages that we'll need ([r-randomforest](https://anaconda.org/conda-forge/r-randomforest), [dplyr](https://anaconda.org/conda-forge/r-dplyr), [tibble](https://anaconda.org/conda-forge/r-tibble)). The python, jupyter, and notebook packages will allow us to select our conda environment as a kernel for our jupyter notebook. The rpy2 package will allow us to change the interpreter within a Python cell in our jupyter notebook to instead interpret R code by entering `%%R` at the top of a Python cell.\n",
    "\n",
    "# Working locally\n",
    "\n",
    "##  Setting your environment variables\n",
    "\n",
    "1. Create a file named `.group_project_r_env` in the nbs folder\n",
    "2. In that file, define the following variables with the paths to each of the csv's. I personally like to control-click on a file in Visual Studio Code, copy the entire path (represented by the `..` below), and then edit the last parts of the path to redirect it to what I'd like the path to point to, in this case that is the csv data.\n",
    "```shell\n",
    "  GiveMeSomeCreditTrainingCSV=/../GiveMeSomeCredit/cs-training.csv\n",
    "  GiveMeSomeCreditTestCSV=/../GiveMeSomeCredit/cs-test.csv\n",
    "  GiveMeSomeCreditSampleEntryCSV=/../GiveMeSomeCredit/sampleEntry.csv\n",
    "```\n",
    "\n",
    "## How to Git\n",
    "\n",
    "First, make sure that you have [Git](https://formulae.brew.sh/formula/git) installed. \n",
    "\n",
    "### Getting a copy of the repository onto your computer\n",
    "\n",
    "I recommend using Visual Studio Code's GitHub cloning functionality to clone the respository. Otherwise, just run `git clone https://github.com/TesfaAsmara/m154.git` in the folder where you want the local repository to be stored.\n",
    "\n",
    "### Saving your work\n",
    "\n",
    "1. `git status`\n",
    "2. `git add .`\n",
    "3. `git commit -m \"some message about your work session goes here\"`\n",
    "4. `git push`\n",
    "\n",
    "### Getting ready to work\n",
    "\n",
    "1. Activate your environment\n",
    "\t`conda activate <environment_name>`\n",
    "2. `git status`\n",
    "3. `git pull`\n",
    "\n",
    "You are now ready to work.\n",
    "\n",
    "\n",
    "# Issues that came up\n",
    "\n",
    "# Refreshing cache for gitignore\n",
    "https://stackoverflow.com/questions/24410208/gitignore-does-not-ignore-folder"
   ]
  }
 ],
 "metadata": {
  "kernelspec": {
   "display_name": "Python 3.10.6 ('m154env')",
   "language": "python",
   "name": "python3"
  }
 },
 "nbformat": 4,
 "nbformat_minor": 4
}
