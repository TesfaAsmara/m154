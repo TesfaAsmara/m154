{
 "cells": [
  {
   "cell_type": "markdown",
   "metadata": {},
   "source": [
    "# Homework 3\n",
    "\n",
    "> Subject sentence"
   ]
  },
  {
   "cell_type": "code",
   "execution_count": null,
   "metadata": {},
   "outputs": [
    {
     "name": "stdout",
     "output_type": "stream",
     "text": [
      "The autoreload extension is already loaded. To reload it, use:\n",
      "  %reload_ext autoreload\n"
     ]
    }
   ],
   "source": [
    "#hide\n",
    "import numpy as np\n",
    "import csv\n",
    "%load_ext autoreload\n",
    "%autoreload 2"
   ]
  },
  {
   "cell_type": "markdown",
   "metadata": {},
   "source": [
    "1.  In homework 2, we cross-validated a kernel density estimator by (probably) maximizing the leave-one-out likelihood/joint probability (maximize $\\prod_{i=1}^n \\hat{f}_{h,-i}(x_i)$ over $h$, yielding $h^*$).  \n",
    "\n",
    "a. Argue that it makes more sense to maximize the sum of the log density estimates instead (ref: lecture 0)."
   ]
  },
  {
   "cell_type": "markdown",
   "metadata": {},
   "source": [
    "It makes more sense to maximize the sum of log density estimates instead because, by page 265 in The Elements of Statistical Learning, maximum likelihood is based on the likelihood function; we choose the value of $\\theta = \\hat{\\theta}$ that maximizes the loss $\\mathcal{L}$. However, this loss function is difficult to differentiate. Moreover, we know that the log function is a monotonically increasing function, meaning if the value on the x-axis increases, then the value on the y-axis also increases. Hence, the maximum value of the log of the likelihood occurs at the same point as the maximum value of the likelihood. Lastly, since the log of products is the sum of logs, we have simiplified the task."
   ]
  },
  {
   "cell_type": "markdown",
   "metadata": {},
   "source": [
    "b. Suppose that you will observe a second sample of the size $n$ as your future data.  How will the likelihood of this data ($\\prod_{j=n+1}^{2n} \\hat{f}_{h^*}(x_j))$) likely compare to the value of the cross validated leave-one-out likelihood? Why?  (You can check this with code easily, but it won't tell you why.  The answer is related to the reason we do cross-validation in the first place). "
   ]
  },
  {
   "cell_type": "markdown",
   "metadata": {},
   "source": [
    "By page 265 in The Elements of Statistical Learning, leave-one-out cross-validation has low bias but can have high variance. "
   ]
  },
  {
   "cell_type": "markdown",
   "metadata": {},
   "source": [
    "2. Estimate the Air Quality at Estlla Hall (point 10 in the AQI data set) using a 2-$d$ kernel regression smoother based on data taken from purpleair.com.  If you use a \n",
    "\"circular\" bandwidth via a bivariate normal kernel, \n",
    "then the weights are just the product of the univariate kernel: if $w=(x,y)$ then $K_2(\\frac{\\|w_i-w\\|}{h})=K_1(\\frac{x_i-x}{h})K_1(\\frac{y_i-y}{h})$, where $K_2$ is the bivariate normal kernel and $K_1$ is a univariate normal kernel.  (If you've taken probability, state why this is true.  What is a \"circular\" bandwidth equivalent to?)    \n",
    "\n",
    "If you want to use something other than an ellipse with axis corresponding to the Lat/Lon axes, you can use the *dmvnorm* function in the **mvtnorm** package.  But I think the topography of this area lends itself nicely to the standard axes (though not necessarily circular neighborhoods).  \n",
    "\n",
    "Cross-validate only if you want to.  \n",
    "\n",
    "```{r}\n",
    "aqi <- read.csv(\"~/154/hw3aqidata\")  #you'll need to add this to your workspace\n",
    "stations <- aqi[1:9,]\n",
    "par(bg = \"blanchedalmond\")\n",
    "plot(c(0,2), c(-8,3), t='n')\n",
    "points(stations$x, stations$y, cex=4)\n",
    "for (i in 1:nrow(stations))\n",
    "  legend(stations$x[i]-.125, stations$y[i]+.6, stations$z[i], bty='n') #hack!\n",
    "points(aqi$x[10], aqi$y[10], cex=4)\n",
    "legend(aqi$x[10]-.155, aqi$y[10]+.6, c(' ?'), bty='n')\n",
    "```\n",
    "Note:  I got this data set as well as the XKCD data set using this tool: https://apps.automeris.io/wpd/\n"
   ]
  },
  {
   "cell_type": "code",
   "execution_count": 17,
   "metadata": {},
   "outputs": [],
   "source": [
    "from sklearn.model_selection import train_test_split\n",
    "import pandas as pd\n",
    "path_to_data = \"../data/hw3aqidata.csv\"\n",
    "aqi = pd.read_csv(path_to_data);\n",
    "stations = aqi[1:9]\n",
    "stations\n",
    "X, y = [[x] for x in aqi['x']], aqi['y']"
   ]
  },
  {
   "cell_type": "code",
   "execution_count": 19,
   "metadata": {},
   "outputs": [
    {
     "name": "stdout",
     "output_type": "stream",
     "text": [
      "SVR complexity and bandwidth selected and model fitted in 0.269 s\n",
      "KR including bandwith fitted in 0.091 s\n"
     ]
    },
    {
     "name": "stderr",
     "output_type": "stream",
     "text": [
      "/gpfs/ysm/project/sumry2022/sumry2022_ta483/conda_envs/m154/lib/python3.7/site-packages/sklearn_extensions/kernel_regression/kr.py:93: FutureWarning: Support for multi-dimensional indexing (e.g. `obj[:, None]`) is deprecated and will be removed in a future version.  Convert to a numpy array before indexing instead.\n",
      "  Ky = K * self.y[:, np.newaxis]\n",
      "/gpfs/ysm/project/sumry2022/sumry2022_ta483/conda_envs/m154/lib/python3.7/site-packages/sklearn_extensions/kernel_regression/kr.py:93: FutureWarning: Support for multi-dimensional indexing (e.g. `obj[:, None]`) is deprecated and will be removed in a future version.  Convert to a numpy array before indexing instead.\n",
      "  Ky = K * self.y[:, np.newaxis]\n",
      "/gpfs/ysm/project/sumry2022/sumry2022_ta483/conda_envs/m154/lib/python3.7/site-packages/sklearn_extensions/kernel_regression/kr.py:93: FutureWarning: Support for multi-dimensional indexing (e.g. `obj[:, None]`) is deprecated and will be removed in a future version.  Convert to a numpy array before indexing instead.\n",
      "  Ky = K * self.y[:, np.newaxis]\n",
      "/gpfs/ysm/project/sumry2022/sumry2022_ta483/conda_envs/m154/lib/python3.7/site-packages/sklearn_extensions/kernel_regression/kr.py:93: FutureWarning: Support for multi-dimensional indexing (e.g. `obj[:, None]`) is deprecated and will be removed in a future version.  Convert to a numpy array before indexing instead.\n",
      "  Ky = K * self.y[:, np.newaxis]\n",
      "/gpfs/ysm/project/sumry2022/sumry2022_ta483/conda_envs/m154/lib/python3.7/site-packages/sklearn_extensions/kernel_regression/kr.py:93: FutureWarning: Support for multi-dimensional indexing (e.g. `obj[:, None]`) is deprecated and will be removed in a future version.  Convert to a numpy array before indexing instead.\n",
      "  Ky = K * self.y[:, np.newaxis]\n",
      "/gpfs/ysm/project/sumry2022/sumry2022_ta483/conda_envs/m154/lib/python3.7/site-packages/sklearn_extensions/kernel_regression/kr.py:93: FutureWarning: Support for multi-dimensional indexing (e.g. `obj[:, None]`) is deprecated and will be removed in a future version.  Convert to a numpy array before indexing instead.\n",
      "  Ky = K * self.y[:, np.newaxis]\n",
      "/gpfs/ysm/project/sumry2022/sumry2022_ta483/conda_envs/m154/lib/python3.7/site-packages/sklearn_extensions/kernel_regression/kr.py:93: FutureWarning: Support for multi-dimensional indexing (e.g. `obj[:, None]`) is deprecated and will be removed in a future version.  Convert to a numpy array before indexing instead.\n",
      "  Ky = K * self.y[:, np.newaxis]\n",
      "/gpfs/ysm/project/sumry2022/sumry2022_ta483/conda_envs/m154/lib/python3.7/site-packages/sklearn_extensions/kernel_regression/kr.py:93: FutureWarning: Support for multi-dimensional indexing (e.g. `obj[:, None]`) is deprecated and will be removed in a future version.  Convert to a numpy array before indexing instead.\n",
      "  Ky = K * self.y[:, np.newaxis]\n",
      "/gpfs/ysm/project/sumry2022/sumry2022_ta483/conda_envs/m154/lib/python3.7/site-packages/sklearn_extensions/kernel_regression/kr.py:93: FutureWarning: Support for multi-dimensional indexing (e.g. `obj[:, None]`) is deprecated and will be removed in a future version.  Convert to a numpy array before indexing instead.\n",
      "  Ky = K * self.y[:, np.newaxis]\n",
      "/gpfs/ysm/project/sumry2022/sumry2022_ta483/conda_envs/m154/lib/python3.7/site-packages/sklearn_extensions/kernel_regression/kr.py:93: FutureWarning: Support for multi-dimensional indexing (e.g. `obj[:, None]`) is deprecated and will be removed in a future version.  Convert to a numpy array before indexing instead.\n",
      "  Ky = K * self.y[:, np.newaxis]\n",
      "/gpfs/ysm/project/sumry2022/sumry2022_ta483/conda_envs/m154/lib/python3.7/site-packages/sklearn_extensions/kernel_regression/kr.py:84: FutureWarning: Support for multi-dimensional indexing (e.g. `obj[:, None]`) is deprecated and will be removed in a future version.  Convert to a numpy array before indexing instead.\n",
      "  return (K * self.y[:, None]).sum(axis=0) / K.sum(axis=0)\n"
     ]
    }
   ],
   "source": [
    "import time\n",
    "import numpy as np\n",
    "from sklearn.svm import SVR\n",
    "from sklearn.model_selection import GridSearchCV\n",
    "from sklearn_extensions.kernel_regression import KernelRegression\n",
    "\n",
    "\n",
    "# Fit regression models\n",
    "svr = GridSearchCV(SVR(kernel='rbf'), cv=5, param_grid={\"C\": [1e-1, 1e0, 1e1, 1e2], \"gamma\": np.logspace(-2, 2, 10)})\n",
    "\n",
    "kr = KernelRegression(kernel=\"rbf\", gamma=np.logspace(-2, 2, 10))\n",
    "t0 = time.time()\n",
    "y_svr = svr.fit(X, y).predict(X)\n",
    "\n",
    "print(\"SVR complexity and bandwidth selected and model fitted in %.3f s\" % (time.time() - t0))\n",
    "\n",
    "t0 = time.time()\n",
    "y_kr = kr.fit(X, y).predict(X)\n",
    "\n",
    "print(\"KR including bandwith fitted in %.3f s\" % (time.time() - t0))"
   ]
  },
  {
   "cell_type": "markdown",
   "metadata": {},
   "source": [
    "3.  The end of the first lab describes additive models and the back-fitting algorithm.  This model allows a high dimensional regression function to be estimated by recursively taking projections of your data to create bivariate data sets where the smoother from Lecture 2 can be used, thus avoiding the curse of dimensionality (at the cost of restricting the flexibility of your learner however).\n",
    "\n",
    "Implement this algorithm and fit the following data set ($x_1, x_2, y$) with the true response surface visualized. \n",
    "```{r}\n",
    "set.seed(47)\n",
    "x1 <- runif(200)\n",
    "x2 <- runif(200)\n",
    "y <- 5 + x1^2 + sin(x2*10) + rnorm(200,0, .3)\n",
    "grid <- seq(0,1,.01)\n",
    "truth <- matrix(0, nrow=length(grid), ncol=length(grid))\n",
    "for (i in 1:length(grid)){\n",
    "  for (j in 1:length(grid)) {\n",
    "    truth[i,j] <- 5 + grid[i]^2 + sin(grid[j]*10)\n",
    "  }\n",
    "}\n",
    "image(grid,grid,truth)  #heat map\n",
    "persp(truth, theta=45) #persepctive plot\n",
    "```\n",
    "You can either present a plot of the complete estimated regression surface, or plots of the individual estimates $\\hat{s}_i(x_i)$ which completely characterize the surface under the additivity assumption. "
   ]
  },
  {
   "cell_type": "code",
   "execution_count": 18,
   "metadata": {},
   "outputs": [],
   "source": [
    "from pygam import LinearGAM, s, f\n",
    "import numpy as np\n",
    "\n",
    "x1 = np.random.uniform(0,1,200)\n",
    "x2 = np.random.uniform(0,1,200)\n",
    "y = 5 + x1**2 + np.sin(x2)*10 + np.random.normal(0, np.sqrt(0.3))\n",
    "X = np.vstack((x1, x2)).T"
   ]
  },
  {
   "cell_type": "code",
   "execution_count": 24,
   "metadata": {},
   "outputs": [
    {
     "name": "stderr",
     "output_type": "stream",
     "text": [
      "100% (11 of 11) |########################| Elapsed Time: 0:00:02 Time:  0:00:02\n"
     ]
    },
    {
     "data": {
      "text/plain": [
       "LinearGAM(callbacks=[Deviance(), Diffs()], fit_intercept=True, \n",
       "   max_iter=100, scale=None, terms=s(0) + s(1) + intercept, \n",
       "   tol=0.0001, verbose=False)"
      ]
     },
     "execution_count": 24,
     "metadata": {},
     "output_type": "execute_result"
    }
   ],
   "source": [
    "## model\n",
    "gam = LinearGAM(s(0) + s(1))\n",
    "gam.gridsearch(X, y)"
   ]
  },
  {
   "cell_type": "code",
   "execution_count": 25,
   "metadata": {},
   "outputs": [
    {
     "data": {
      "text/plain": [
       "<Figure size 640x480 with 0 Axes>"
      ]
     },
     "metadata": {},
     "output_type": "display_data"
    },
    {
     "data": {
      "image/png": "[encoded data removed]",
      "text/plain": [
       "<Figure size 640x480 with 2 Axes>"
      ]
     },
     "metadata": {},
     "output_type": "display_data"
    }
   ],
   "source": [
    "import matplotlib.pyplot as plt\n",
    "## plotting\n",
    "plt.figure();\n",
    "fig, axs = plt.subplots(1,2);\n",
    "\n",
    "titles = ['x1', 'x2']\n",
    "for i, ax in enumerate(axs):\n",
    "    XX = gam.generate_X_grid(term=i)\n",
    "    ax.plot(XX[:, i], gam.partial_dependence(term=i, X=XX))\n",
    "    ax.plot(XX[:, i], gam.partial_dependence(term=i, X=XX, width=.95)[1], c='r', ls='--')\n",
    "    if i == 0:\n",
    "        ax.set_ylim(-30,30)\n",
    "    ax.set_title(titles[i]);"
   ]
  }
 ],
 "metadata": {
  "kernelspec": {
   "display_name": "Python 3 (ipykernel)",
   "language": "python",
   "name": "python3"
  },
  "language_info": {
   "codemirror_mode": {
    "name": "ipython",
    "version": 3
   },
   "file_extension": ".py",
   "mimetype": "text/x-python",
   "name": "python",
   "nbconvert_exporter": "python",
   "pygments_lexer": "ipython3",
   "version": "3.7.7"
  }
 },
 "nbformat": 4,
 "nbformat_minor": 2
}
