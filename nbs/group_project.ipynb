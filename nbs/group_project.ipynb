{
 "cells": [
  {
   "cell_type": "code",
   "execution_count": 1,
   "metadata": {},
   "outputs": [],
   "source": [
    "%load_ext rpy2.ipython"
   ]
  },
  {
   "cell_type": "markdown",
   "metadata": {},
   "source": [
    "# Group Project\n",
    "\n",
    "> Authors: Tesfa Asmara, Arsh Chhabra, Brandon Kaplan, Sam Sasaki"
   ]
  },
  {
   "cell_type": "code",
   "execution_count": 2,
   "metadata": {},
   "outputs": [
    {
     "name": "stderr",
     "output_type": "stream",
     "text": [
      "R[write to console]: randomForest 4.7-1.1\n",
      "\n",
      "R[write to console]: Type rfNews() to see new features/changes/bug fixes.\n",
      "\n"
     ]
    }
   ],
   "source": [
    "%%R\n",
    "library(randomForest)\n",
    "library(tibble)\n",
    "\n",
    "readRenviron(\"./.group_project_r_env\")\n",
    "GiveMeSomeCreditTrainingCSV <- Sys.getenv(\"GiveMeSomeCreditTrainingCSV\")\n",
    "GiveMeSomeCreditTestCSV <- Sys.getenv(\"GiveMeSomeCreditTestCSV\")\n",
    "GiveMeSomeCreditSampleEntryCSV <- Sys.getenv(\"GiveMeSomeCreditSampleEntryCSV\")\n",
    "set.seed(47)\n",
    "\n",
    "training_data <- read.csv(file = GiveMeSomeCreditTrainingCSV)"
   ]
  },
  {
   "cell_type": "code",
   "execution_count": 3,
   "metadata": {},
   "outputs": [
    {
     "name": "stdout",
     "output_type": "stream",
     "text": [
      "tibble [150,000 × 12] (S3: tbl_df/tbl/data.frame)\n",
      " $ X                                   : int [1:150000] 1 2 3 4 5 6 7 8 9 10 ...\n",
      " $ SeriousDlqin2yrs                    : int [1:150000] 1 0 0 0 0 0 0 0 0 0 ...\n",
      " $ RevolvingUtilizationOfUnsecuredLines: num [1:150000] 0.766 0.957 0.658 0.234 0.907 ...\n",
      " $ age                                 : int [1:150000] 45 40 38 30 49 74 57 39 27 57 ...\n",
      " $ NumberOfTime30.59DaysPastDueNotWorse: int [1:150000] 2 0 1 0 1 0 0 0 0 0 ...\n",
      " $ DebtRatio                           : num [1:150000] 0.803 0.1219 0.0851 0.036 0.0249 ...\n",
      " $ MonthlyIncome                       : int [1:150000] 9120 2600 3042 3300 63588 3500 NA 3500 NA 23684 ...\n",
      " $ NumberOfOpenCreditLinesAndLoans     : int [1:150000] 13 4 2 5 7 3 8 8 2 9 ...\n",
      " $ NumberOfTimes90DaysLate             : int [1:150000] 0 0 1 0 0 0 0 0 0 0 ...\n",
      " $ NumberRealEstateLoansOrLines        : int [1:150000] 6 0 0 0 1 1 3 0 0 4 ...\n",
      " $ NumberOfTime60.89DaysPastDueNotWorse: int [1:150000] 0 0 0 0 0 0 0 0 0 0 ...\n",
      " $ NumberOfDependents                  : int [1:150000] 2 1 0 0 0 1 0 0 NA 2 ...\n",
      "       X          SeriousDlqin2yrs  RevolvingUtilizationOfUnsecuredLines\n",
      " Min.   :     1   Min.   :0.00000   Min.   :    0.00                    \n",
      " 1st Qu.: 37501   1st Qu.:0.00000   1st Qu.:    0.03                    \n",
      " Median : 75000   Median :0.00000   Median :    0.15                    \n",
      " Mean   : 75000   Mean   :0.06684   Mean   :    6.05                    \n",
      " 3rd Qu.:112500   3rd Qu.:0.00000   3rd Qu.:    0.56                    \n",
      " Max.   :150000   Max.   :1.00000   Max.   :50708.00                    \n",
      "                                                                        \n",
      "      age        NumberOfTime30.59DaysPastDueNotWorse   DebtRatio       \n",
      " Min.   :  0.0   Min.   : 0.000                       Min.   :     0.0  \n",
      " 1st Qu.: 41.0   1st Qu.: 0.000                       1st Qu.:     0.2  \n",
      " Median : 52.0   Median : 0.000                       Median :     0.4  \n",
      " Mean   : 52.3   Mean   : 0.421                       Mean   :   353.0  \n",
      " 3rd Qu.: 63.0   3rd Qu.: 0.000                       3rd Qu.:     0.9  \n",
      " Max.   :109.0   Max.   :98.000                       Max.   :329664.0  \n",
      "                                                                        \n",
      " MonthlyIncome     NumberOfOpenCreditLinesAndLoans NumberOfTimes90DaysLate\n",
      " Min.   :      0   Min.   : 0.000                  Min.   : 0.000         \n",
      " 1st Qu.:   3400   1st Qu.: 5.000                  1st Qu.: 0.000         \n",
      " Median :   5400   Median : 8.000                  Median : 0.000         \n",
      " Mean   :   6670   Mean   : 8.453                  Mean   : 0.266         \n",
      " 3rd Qu.:   8249   3rd Qu.:11.000                  3rd Qu.: 0.000         \n",
      " Max.   :3008750   Max.   :58.000                  Max.   :98.000         \n",
      " NA's   :29731                                                            \n",
      " NumberRealEstateLoansOrLines NumberOfTime60.89DaysPastDueNotWorse\n",
      " Min.   : 0.000               Min.   : 0.0000                     \n",
      " 1st Qu.: 0.000               1st Qu.: 0.0000                     \n",
      " Median : 1.000               Median : 0.0000                     \n",
      " Mean   : 1.018               Mean   : 0.2404                     \n",
      " 3rd Qu.: 2.000               3rd Qu.: 0.0000                     \n",
      " Max.   :54.000               Max.   :98.0000                     \n",
      "                                                                  \n",
      " NumberOfDependents\n",
      " Min.   : 0.000    \n",
      " 1st Qu.: 0.000    \n",
      " Median : 0.000    \n",
      " Mean   : 0.757    \n",
      " 3rd Qu.: 1.000    \n",
      " Max.   :20.000    \n",
      " NA's   :3924      \n"
     ]
    }
   ],
   "source": [
    "%%R\n",
    "table <- as_tibble(training_data)\n",
    "str(table)\n",
    "summary(table)"
   ]
  },
  {
   "cell_type": "code",
   "execution_count": 6,
   "metadata": {},
   "outputs": [
    {
     "name": "stdout",
     "output_type": "stream",
     "text": [
      " Factor w/ 52 levels \"0\",\"1\",\"2\",\"4\",..: 33 27 27 27 39 28 NA 28 NA 35 ...\n",
      " [1] 9000  3000  60000 4000  <NA>  20000 2000  7000  10000 0     300   8000 \n",
      "[13] 5000  6000  800   1000  1     500   2e+05 30000 900   70000 400   600  \n",
      "[25] 20    200   2     40000 700   50000 1e+05 80000 90000 100   70    60   \n",
      "[37] 40    10    3e+05 80    6e+05 4     50    1e+06 9     5     3e+06 30   \n",
      "[49] 4e+05 7e+05 2e+06 8e+05 7    \n",
      "52 Levels: 0 1 2 4 5 7 9 10 20 30 40 50 60 70 80 100 200 300 400 500 ... 3e+06\n"
     ]
    }
   ],
   "source": [
    "%%R\n",
    "#turn variables from numerics to factors\n",
    "\n",
    "\n",
    "# testing_data <- as.factor(test)\n",
    "# print(testing_data)\n",
    "\n",
    "# print(training_data$MonthlyIncome[1:50])\n",
    "\n",
    "test <- round(training_data$MonthlyIncome / 1000) * 1000\n",
    "test <- signif(training_data$MonthlyIncome, digits=1)\n",
    "# print(test)\n",
    "\n",
    "test <- as.factor(test)\n",
    "str(test)\n",
    "\n",
    "print(unique(test))\n",
    "\n",
    "\n",
    "\n",
    "# training_data$MonthlyIncome <- signif(training_data$MonthlyIncome, digits=4)\n",
    "\n",
    "# training_data$MonthlyIncome\n",
    "\n",
    "# training_data$age <- as.factor(training_data$age)\n",
    "# training_data$NumberOfTime30.59DaysPastDueNotWorse <- as.factor(training_data$NumberOfTime30.59DaysPastDueNotWorse)\n",
    "# training_data$MonthlyIncome <- as.factor(training_data$MonthlyIncome)\n",
    "# training_data$NumberOfOpenCreditLinesAndLoans <- as.factor(training_data$NumberOfOpenCreditLinesAndLoans)\n",
    "# training_data$NumberOfTimes90DaysLate <- as.factor(training_data$NumberOfTimes90DaysLate)\n",
    "# training_data$NumberRealEstateLoansOrLines <- as.factor(training_data$NumberRealEstateLoansOrLines)\n",
    "# training_data$NumberOfTime60.89DaysPastDueNotWorse <- as.factor(training_data$NumberOfTime60.89DaysPastDueNotWorse)\n",
    "# training_data$NumberOfDependents <- as.factor(training_data$NumberOfDependents)\n",
    "\n",
    "# training_data$SeriousDlqin2yrs <- ifelse(test=training_data$SeriousDlqin2yrs == 0, yes=\"No\", no=\"Yes\") #turns 0 and 1 into no and yes\n",
    "# training_data$SeriousDlqin2yrs <- as.factor(training_data$SeriousDlqin2yrs)\n",
    "\n",
    "# str(training_data)\n",
    "#imputing N/A values\n",
    "\n",
    "\n",
    "\n",
    "#getting an error here running rfImpute, something like there are too many categories, maybe look at the structure for clues.\n",
    "# training_data.rf <- rfImpute(SeriousDlqin2yrs ~ ., data = training_data,iter = 6)"
   ]
  }
 ],
 "metadata": {
  "kernelspec": {
   "display_name": "Python 3.10.6 ('m154env')",
   "language": "python",
   "name": "python3"
  },
  "language_info": {
   "codemirror_mode": {
    "name": "ipython",
    "version": 3
   },
   "file_extension": ".py",
   "mimetype": "text/x-python",
   "name": "python",
   "nbconvert_exporter": "python",
   "pygments_lexer": "ipython3",
   "version": "3.10.6"
  },
  "vscode": {
   "interpreter": {
    "hash": "45200cae32ec11597da7cdc0401585cc53ae0d6790f5d7877e5c52fce2e64c45"
   }
  }
 },
 "nbformat": 4,
 "nbformat_minor": 2
}
