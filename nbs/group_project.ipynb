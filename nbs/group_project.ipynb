{
 "cells": [
  {
   "cell_type": "code",
   "execution_count": 6,
   "metadata": {},
   "outputs": [],
   "source": [
    "%load_ext rpy2.ipython"
   ]
  },
  {
   "cell_type": "markdown",
   "metadata": {},
   "source": [
    "# Group Project\n",
    "\n",
    "> Authors: Tesfa Asmara, Arsh Chhabra, Brandon Kaplan, Sam Sasaki"
   ]
  },
  {
   "cell_type": "code",
   "execution_count": 8,
   "metadata": {},
   "outputs": [
    {
     "name": "stderr",
     "output_type": "stream",
     "text": [
      "R[write to console]: Error in library(tidyverse) : there is no package called ‘tidyverse’\n",
      "\n"
     ]
    },
    {
     "name": "stdout",
     "output_type": "stream",
     "text": [
      "\n",
      "Error in library(tidyverse) : there is no package called ‘tidyverse’\n"
     ]
    },
    {
     "ename": "RInterpreterError",
     "evalue": "Failed to parse and evaluate line 'library(randomForest)\\nlibrary(tidyverse)\\nhelp(\"rfImpute.default\")\\n'.\nR error message: 'Error in library(tidyverse) : there is no package called ‘tidyverse’'",
     "output_type": "error",
     "traceback": [
      "\u001b[0;31m---------------------------------------------------------------------------\u001b[0m",
      "\u001b[0;31mRRuntimeError\u001b[0m                             Traceback (most recent call last)",
      "File \u001b[0;32m~/miniconda3/envs/MATH154_Group_Project/lib/python3.10/site-packages/rpy2/ipython/rmagic.py:280\u001b[0m, in \u001b[0;36mRMagics.eval\u001b[0;34m(self, code)\u001b[0m\n\u001b[1;32m    278\u001b[0m \u001b[39mtry\u001b[39;00m:\n\u001b[1;32m    279\u001b[0m     \u001b[39m# Need the newline in case the last line in code is a comment.\u001b[39;00m\n\u001b[0;32m--> 280\u001b[0m     value, visible \u001b[39m=\u001b[39m ro\u001b[39m.\u001b[39;49mr(\u001b[39m\"\u001b[39;49m\u001b[39mwithVisible(\u001b[39;49m\u001b[39m{\u001b[39;49m\u001b[39m%s\u001b[39;49;00m\u001b[39m\\n\u001b[39;49;00m\u001b[39m})\u001b[39;49m\u001b[39m\"\u001b[39;49m \u001b[39m%\u001b[39;49m code)\n\u001b[1;32m    281\u001b[0m \u001b[39mexcept\u001b[39;00m (ri\u001b[39m.\u001b[39membedded\u001b[39m.\u001b[39mRRuntimeError, \u001b[39mValueError\u001b[39;00m) \u001b[39mas\u001b[39;00m exception:\n\u001b[1;32m    282\u001b[0m     \u001b[39m# Otherwise next return seems to have copy of error.\u001b[39;00m\n",
      "File \u001b[0;32m~/miniconda3/envs/MATH154_Group_Project/lib/python3.10/site-packages/rpy2/robjects/__init__.py:451\u001b[0m, in \u001b[0;36mR.__call__\u001b[0;34m(self, string)\u001b[0m\n\u001b[1;32m    450\u001b[0m p \u001b[39m=\u001b[39m rinterface\u001b[39m.\u001b[39mparse(string)\n\u001b[0;32m--> 451\u001b[0m res \u001b[39m=\u001b[39m \u001b[39mself\u001b[39;49m\u001b[39m.\u001b[39;49meval(p)\n\u001b[1;32m    452\u001b[0m \u001b[39mreturn\u001b[39;00m conversion\u001b[39m.\u001b[39mrpy2py(res)\n",
      "File \u001b[0;32m~/miniconda3/envs/MATH154_Group_Project/lib/python3.10/site-packages/rpy2/robjects/functions.py:201\u001b[0m, in \u001b[0;36mSignatureTranslatedFunction.__call__\u001b[0;34m(self, *args, **kwargs)\u001b[0m\n\u001b[1;32m    200\u001b[0m         kwargs[r_k] \u001b[39m=\u001b[39m v\n\u001b[0;32m--> 201\u001b[0m \u001b[39mreturn\u001b[39;00m (\u001b[39msuper\u001b[39;49m(SignatureTranslatedFunction, \u001b[39mself\u001b[39;49m)\n\u001b[1;32m    202\u001b[0m         \u001b[39m.\u001b[39;49m\u001b[39m__call__\u001b[39;49m(\u001b[39m*\u001b[39;49margs, \u001b[39m*\u001b[39;49m\u001b[39m*\u001b[39;49mkwargs))\n",
      "File \u001b[0;32m~/miniconda3/envs/MATH154_Group_Project/lib/python3.10/site-packages/rpy2/robjects/functions.py:124\u001b[0m, in \u001b[0;36mFunction.__call__\u001b[0;34m(self, *args, **kwargs)\u001b[0m\n\u001b[1;32m    123\u001b[0m         new_kwargs[k] \u001b[39m=\u001b[39m conversion\u001b[39m.\u001b[39mpy2rpy(v)\n\u001b[0;32m--> 124\u001b[0m res \u001b[39m=\u001b[39m \u001b[39msuper\u001b[39;49m(Function, \u001b[39mself\u001b[39;49m)\u001b[39m.\u001b[39;49m\u001b[39m__call__\u001b[39;49m(\u001b[39m*\u001b[39;49mnew_args, \u001b[39m*\u001b[39;49m\u001b[39m*\u001b[39;49mnew_kwargs)\n\u001b[1;32m    125\u001b[0m res \u001b[39m=\u001b[39m conversion\u001b[39m.\u001b[39mrpy2py(res)\n",
      "File \u001b[0;32m~/miniconda3/envs/MATH154_Group_Project/lib/python3.10/site-packages/rpy2/rinterface_lib/conversion.py:45\u001b[0m, in \u001b[0;36m_cdata_res_to_rinterface.<locals>._\u001b[0;34m(*args, **kwargs)\u001b[0m\n\u001b[1;32m     44\u001b[0m \u001b[39mdef\u001b[39;00m \u001b[39m_\u001b[39m(\u001b[39m*\u001b[39margs, \u001b[39m*\u001b[39m\u001b[39m*\u001b[39mkwargs):\n\u001b[0;32m---> 45\u001b[0m     cdata \u001b[39m=\u001b[39m function(\u001b[39m*\u001b[39;49margs, \u001b[39m*\u001b[39;49m\u001b[39m*\u001b[39;49mkwargs)\n\u001b[1;32m     46\u001b[0m     \u001b[39m# TODO: test cdata is of the expected CType\u001b[39;00m\n",
      "File \u001b[0;32m~/miniconda3/envs/MATH154_Group_Project/lib/python3.10/site-packages/rpy2/rinterface.py:810\u001b[0m, in \u001b[0;36mSexpClosure.__call__\u001b[0;34m(self, *args, **kwargs)\u001b[0m\n\u001b[1;32m    809\u001b[0m     \u001b[39mif\u001b[39;00m error_occured[\u001b[39m0\u001b[39m]:\n\u001b[0;32m--> 810\u001b[0m         \u001b[39mraise\u001b[39;00m embedded\u001b[39m.\u001b[39mRRuntimeError(_rinterface\u001b[39m.\u001b[39m_geterrmessage())\n\u001b[1;32m    811\u001b[0m \u001b[39mreturn\u001b[39;00m res\n",
      "\u001b[0;31mRRuntimeError\u001b[0m: Error in library(tidyverse) : there is no package called ‘tidyverse’\n",
      "\nDuring handling of the above exception, another exception occurred:\n",
      "\u001b[0;31mRInterpreterError\u001b[0m                         Traceback (most recent call last)",
      "Cell \u001b[0;32mIn [8], line 1\u001b[0m\n\u001b[0;32m----> 1\u001b[0m get_ipython()\u001b[39m.\u001b[39;49mrun_cell_magic(\u001b[39m'\u001b[39;49m\u001b[39mR\u001b[39;49m\u001b[39m'\u001b[39;49m, \u001b[39m'\u001b[39;49m\u001b[39m'\u001b[39;49m, \u001b[39m'\u001b[39;49m\u001b[39mlibrary(randomForest)\u001b[39;49m\u001b[39m\\n\u001b[39;49;00m\u001b[39mlibrary(tidyverse)\u001b[39;49m\u001b[39m\\n\u001b[39;49;00m\u001b[39mhelp(\u001b[39;49m\u001b[39m\"\u001b[39;49m\u001b[39mrfImpute.default\u001b[39;49m\u001b[39m\"\u001b[39;49m\u001b[39m)\u001b[39;49m\u001b[39m\\n\u001b[39;49;00m\u001b[39m'\u001b[39;49m)\n",
      "File \u001b[0;32m~/miniconda3/envs/MATH154_Group_Project/lib/python3.10/site-packages/IPython/core/interactiveshell.py:2417\u001b[0m, in \u001b[0;36mInteractiveShell.run_cell_magic\u001b[0;34m(self, magic_name, line, cell)\u001b[0m\n\u001b[1;32m   2415\u001b[0m \u001b[39mwith\u001b[39;00m \u001b[39mself\u001b[39m\u001b[39m.\u001b[39mbuiltin_trap:\n\u001b[1;32m   2416\u001b[0m     args \u001b[39m=\u001b[39m (magic_arg_s, cell)\n\u001b[0;32m-> 2417\u001b[0m     result \u001b[39m=\u001b[39m fn(\u001b[39m*\u001b[39;49margs, \u001b[39m*\u001b[39;49m\u001b[39m*\u001b[39;49mkwargs)\n\u001b[1;32m   2418\u001b[0m \u001b[39mreturn\u001b[39;00m result\n",
      "File \u001b[0;32m~/miniconda3/envs/MATH154_Group_Project/lib/python3.10/site-packages/rpy2/ipython/rmagic.py:795\u001b[0m, in \u001b[0;36mRMagics.R\u001b[0;34m(self, line, cell, local_ns)\u001b[0m\n\u001b[1;32m    793\u001b[0m     \u001b[39mif\u001b[39;00m \u001b[39mnot\u001b[39;00m e\u001b[39m.\u001b[39mstdout\u001b[39m.\u001b[39mendswith(e\u001b[39m.\u001b[39merr):\n\u001b[1;32m    794\u001b[0m         \u001b[39mprint\u001b[39m(e\u001b[39m.\u001b[39merr)\n\u001b[0;32m--> 795\u001b[0m     \u001b[39mraise\u001b[39;00m e\n\u001b[1;32m    796\u001b[0m \u001b[39mfinally\u001b[39;00m:\n\u001b[1;32m    797\u001b[0m     \u001b[39mif\u001b[39;00m \u001b[39mself\u001b[39m\u001b[39m.\u001b[39mdevice \u001b[39min\u001b[39;00m [\u001b[39m'\u001b[39m\u001b[39mpng\u001b[39m\u001b[39m'\u001b[39m, \u001b[39m'\u001b[39m\u001b[39msvg\u001b[39m\u001b[39m'\u001b[39m]:\n",
      "File \u001b[0;32m~/miniconda3/envs/MATH154_Group_Project/lib/python3.10/site-packages/rpy2/ipython/rmagic.py:775\u001b[0m, in \u001b[0;36mRMagics.R\u001b[0;34m(self, line, cell, local_ns)\u001b[0m\n\u001b[1;32m    773\u001b[0m         return_output \u001b[39m=\u001b[39m \u001b[39mFalse\u001b[39;00m\n\u001b[1;32m    774\u001b[0m \u001b[39melse\u001b[39;00m:\n\u001b[0;32m--> 775\u001b[0m     text_result, result, visible \u001b[39m=\u001b[39m \u001b[39mself\u001b[39;49m\u001b[39m.\u001b[39;49meval(code)\n\u001b[1;32m    776\u001b[0m     text_output \u001b[39m+\u001b[39m\u001b[39m=\u001b[39m text_result\n\u001b[1;32m    777\u001b[0m     \u001b[39mif\u001b[39;00m visible:\n",
      "File \u001b[0;32m~/miniconda3/envs/MATH154_Group_Project/lib/python3.10/site-packages/rpy2/ipython/rmagic.py:284\u001b[0m, in \u001b[0;36mRMagics.eval\u001b[0;34m(self, code)\u001b[0m\n\u001b[1;32m    281\u001b[0m \u001b[39mexcept\u001b[39;00m (ri\u001b[39m.\u001b[39membedded\u001b[39m.\u001b[39mRRuntimeError, \u001b[39mValueError\u001b[39;00m) \u001b[39mas\u001b[39;00m exception:\n\u001b[1;32m    282\u001b[0m     \u001b[39m# Otherwise next return seems to have copy of error.\u001b[39;00m\n\u001b[1;32m    283\u001b[0m     warning_or_other_msg \u001b[39m=\u001b[39m \u001b[39mself\u001b[39m\u001b[39m.\u001b[39mflush()\n\u001b[0;32m--> 284\u001b[0m     \u001b[39mraise\u001b[39;00m RInterpreterError(code, \u001b[39mstr\u001b[39m(exception),\n\u001b[1;32m    285\u001b[0m                             warning_or_other_msg)\n\u001b[1;32m    286\u001b[0m text_output \u001b[39m=\u001b[39m \u001b[39mself\u001b[39m\u001b[39m.\u001b[39mflush()\n\u001b[1;32m    287\u001b[0m \u001b[39mreturn\u001b[39;00m text_output, value, visible[\u001b[39m0\u001b[39m]\n",
      "\u001b[0;31mRInterpreterError\u001b[0m: Failed to parse and evaluate line 'library(randomForest)\\nlibrary(tidyverse)\\nhelp(\"rfImpute.default\")\\n'.\nR error message: 'Error in library(tidyverse) : there is no package called ‘tidyverse’'"
     ]
    }
   ],
   "source": [
    "%%R\n",
    "library(randomForest)\n",
    "library(tidyverse)\n",
    "library(stray)"
   ]
  },
  {
   "cell_type": "code",
   "execution_count": 5,
   "metadata": {},
   "outputs": [
    {
     "name": "stderr",
     "output_type": "stream",
     "text": [
      "UsageError: Cell magic `%%R` not found.\n"
     ]
    }
   ],
   "source": [
    "%%R\n",
    "readRenviron(\"./.group_project_r_env\")\n",
    "GiveMeSomeCreditTrainingCSV <- Sys.getenv(\"GiveMeSomeCreditTrainingCSV\")\n",
    "GiveMeSomeCreditTestCSV <- Sys.getenv(\"GiveMeSomeCreditTestCSV\")\n",
    "GiveMeSomeCreditSampleEntryCSV <- Sys.getenv(\"GiveMeSomeCreditSampleEntryCSV\")\n",
    "set.seed(47)\n",
    "\n",
    "training_data <- read.csv(file = GiveMeSomeCreditTrainingCSV)\n",
    "\n",
    "#clean var names\n",
    "rename(DefaultLikely = SeriousDlqin2yrs)\n",
    "rename(RUUL = RevolvingUtilizationOfUnsecuredLines)\n",
    "rename(Age = age)\n",
    "rename(NumPastDue1 = NumberOfTime30.59DaysPastDueNotWorse)\n",
    "rename(Income = MonthlyIncome)\n",
    "rename(NumCredit = NumberOfOpenCreditLinesAndLoans)\n",
    "rename(NumLate = NumberOfTimes90DaysLate)\n",
    "rename(NumRealEst = NumberRealEstateLoansOrLines)\n",
    "rename(NumPastDue2 = NumberOfTime60.89DaysPastDueNotWorse)\n",
    "rename(NumDep = NumberOfDependents)\n",
    "\n",
    "str(training_data)"
   ]
  },
  {
   "cell_type": "code",
   "execution_count": 4,
   "metadata": {},
   "outputs": [
    {
     "name": "stderr",
     "output_type": "stream",
     "text": [
      "UsageError: Cell magic `%%R` not found.\n"
     ]
    }
   ],
   "source": [
    "%%R\n",
    "\n",
    "#turn predictor variable from numeric to factor\n",
    "\n",
    "training_data$DefaultLikely <- ifelse(test=training_data$DefaultLikely == 0, yes=\"No\", no=\"Yes\") #turns 0 and 1 into no and yes\n",
    "training_data$DefaultLikely <- as.factor(training_data$DefaultLikely)\n",
    "\n"
   ]
  },
  {
   "cell_type": "code",
   "execution_count": null,
   "metadata": {},
   "outputs": [],
   "source": [
    "%%R\n",
    "#imputing N/A values\n",
    "\n",
    "#Here we do a random forest based imputation method to impute values into the missing cols\n",
    "\n",
    "missing1 <- which(is.na(training_data[,7])) #find where na is in monthlyincome col\n",
    "data.1 <- training_data[-missing1,c(3:11)] #data set without id num, output var , also not num dependents which also has na\n",
    "# names(data.1) <- paste('x', 1:9, sep=\"\")\n",
    "fit1 <- randomForest(Income ~ ., data=data.1)\n",
    "# training_data[missing1,1] <- predict(fit1, training_data[missing1, c(1,3:4)])\n",
    "\n",
    "# missing2 <- which(is.na(iris.na[,2])) #find where na is in first variable\n",
    "# data.2 <- iris.na[-missing2,1:4] #data set without na, also not variable 2\n",
    "# fit2 <- randomForest(Sepal.Width~., data=data.2)\n",
    "# iris.na[missing2,2] <- predict(fit2, iris.na[missing2, 1:4])"
   ]
  }
 ],
 "metadata": {
  "kernelspec": {
   "display_name": "Python 3.10.6 ('MATH154_Group_Project')",
   "language": "python",
   "name": "python3"
  },
  "language_info": {
   "codemirror_mode": {
    "name": "ipython",
    "version": 3
   },
   "file_extension": ".py",
   "mimetype": "text/x-python",
   "name": "python",
   "nbconvert_exporter": "python",
   "pygments_lexer": "ipython3",
   "version": "3.10.6"
  },
  "orig_nbformat": 4,
  "vscode": {
   "interpreter": {
    "hash": "348f61470d6243be745ce5e20fd661d4880a71ee8ad4e4595791f658da31fef1"
   }
  }
 },
 "nbformat": 4,
 "nbformat_minor": 2
}
