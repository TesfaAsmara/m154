{
 "cells": [
  {
   "cell_type": "code",
<<<<<<< HEAD
   "execution_count": 2,
=======
<<<<<<< HEAD
   "execution_count": 2,
=======
   "execution_count": null,
>>>>>>> refs/remotes/origin/main
>>>>>>> refs/remotes/origin/main
   "metadata": {},
   "outputs": [
    {
     "name": "stderr",
     "output_type": "stream",
     "text": [
      "Unable to determine R home: Command '('R', 'RHOME')' died with <Signals.SIGKILL: 9>.\n"
     ]
    },
    {
     "ename": "ValueError",
     "evalue": "openrlib.R_HOME cannot be None.",
     "output_type": "error",
     "traceback": [
      "\u001b[0;31m---------------------------------------------------------------------------\u001b[0m",
      "\u001b[0;31mValueError\u001b[0m                                Traceback (most recent call last)",
      "Cell \u001b[0;32mIn [2], line 1\u001b[0m\n\u001b[0;32m----> 1\u001b[0m get_ipython()\u001b[39m.\u001b[39;49mrun_line_magic(\u001b[39m'\u001b[39;49m\u001b[39mload_ext\u001b[39;49m\u001b[39m'\u001b[39;49m, \u001b[39m'\u001b[39;49m\u001b[39mrpy2.ipython\u001b[39;49m\u001b[39m'\u001b[39;49m)\n",
      "File \u001b[0;32m/usr/local/Caskroom/miniconda/base/envs/GroupProject-m154/lib/python3.10/site-packages/IPython/core/interactiveshell.py:2364\u001b[0m, in \u001b[0;36mInteractiveShell.run_line_magic\u001b[0;34m(self, magic_name, line, _stack_depth)\u001b[0m\n\u001b[1;32m   2362\u001b[0m     kwargs[\u001b[39m'\u001b[39m\u001b[39mlocal_ns\u001b[39m\u001b[39m'\u001b[39m] \u001b[39m=\u001b[39m \u001b[39mself\u001b[39m\u001b[39m.\u001b[39mget_local_scope(stack_depth)\n\u001b[1;32m   2363\u001b[0m \u001b[39mwith\u001b[39;00m \u001b[39mself\u001b[39m\u001b[39m.\u001b[39mbuiltin_trap:\n\u001b[0;32m-> 2364\u001b[0m     result \u001b[39m=\u001b[39m fn(\u001b[39m*\u001b[39;49margs, \u001b[39m*\u001b[39;49m\u001b[39m*\u001b[39;49mkwargs)\n\u001b[1;32m   2365\u001b[0m \u001b[39mreturn\u001b[39;00m result\n",
      "File \u001b[0;32m/usr/local/Caskroom/miniconda/base/envs/GroupProject-m154/lib/python3.10/site-packages/IPython/core/magics/extension.py:33\u001b[0m, in \u001b[0;36mExtensionMagics.load_ext\u001b[0;34m(self, module_str)\u001b[0m\n\u001b[1;32m     31\u001b[0m \u001b[39mif\u001b[39;00m \u001b[39mnot\u001b[39;00m module_str:\n\u001b[1;32m     32\u001b[0m     \u001b[39mraise\u001b[39;00m UsageError(\u001b[39m'\u001b[39m\u001b[39mMissing module name.\u001b[39m\u001b[39m'\u001b[39m)\n\u001b[0;32m---> 33\u001b[0m res \u001b[39m=\u001b[39m \u001b[39mself\u001b[39;49m\u001b[39m.\u001b[39;49mshell\u001b[39m.\u001b[39;49mextension_manager\u001b[39m.\u001b[39;49mload_extension(module_str)\n\u001b[1;32m     35\u001b[0m \u001b[39mif\u001b[39;00m res \u001b[39m==\u001b[39m \u001b[39m'\u001b[39m\u001b[39malready loaded\u001b[39m\u001b[39m'\u001b[39m:\n\u001b[1;32m     36\u001b[0m     \u001b[39mprint\u001b[39m(\u001b[39m\"\u001b[39m\u001b[39mThe \u001b[39m\u001b[39m%s\u001b[39;00m\u001b[39m extension is already loaded. To reload it, use:\u001b[39m\u001b[39m\"\u001b[39m \u001b[39m%\u001b[39m module_str)\n",
      "File \u001b[0;32m/usr/local/Caskroom/miniconda/base/envs/GroupProject-m154/lib/python3.10/site-packages/IPython/core/extensions.py:76\u001b[0m, in \u001b[0;36mExtensionManager.load_extension\u001b[0;34m(self, module_str)\u001b[0m\n\u001b[1;32m     69\u001b[0m \u001b[39m\"\"\"Load an IPython extension by its module name.\u001b[39;00m\n\u001b[1;32m     70\u001b[0m \n\u001b[1;32m     71\u001b[0m \u001b[39mReturns the string \"already loaded\" if the extension is already loaded,\u001b[39;00m\n\u001b[1;32m     72\u001b[0m \u001b[39m\"no load function\" if the module doesn't have a load_ipython_extension\u001b[39;00m\n\u001b[1;32m     73\u001b[0m \u001b[39mfunction, or None if it succeeded.\u001b[39;00m\n\u001b[1;32m     74\u001b[0m \u001b[39m\"\"\"\u001b[39;00m\n\u001b[1;32m     75\u001b[0m \u001b[39mtry\u001b[39;00m:\n\u001b[0;32m---> 76\u001b[0m     \u001b[39mreturn\u001b[39;00m \u001b[39mself\u001b[39;49m\u001b[39m.\u001b[39;49m_load_extension(module_str)\n\u001b[1;32m     77\u001b[0m \u001b[39mexcept\u001b[39;00m \u001b[39mModuleNotFoundError\u001b[39;00m:\n\u001b[1;32m     78\u001b[0m     \u001b[39mif\u001b[39;00m module_str \u001b[39min\u001b[39;00m BUILTINS_EXTS:\n",
      "File \u001b[0;32m/usr/local/Caskroom/miniconda/base/envs/GroupProject-m154/lib/python3.10/site-packages/IPython/core/extensions.py:91\u001b[0m, in \u001b[0;36mExtensionManager._load_extension\u001b[0;34m(self, module_str)\u001b[0m\n\u001b[1;32m     89\u001b[0m \u001b[39mwith\u001b[39;00m \u001b[39mself\u001b[39m\u001b[39m.\u001b[39mshell\u001b[39m.\u001b[39mbuiltin_trap:\n\u001b[1;32m     90\u001b[0m     \u001b[39mif\u001b[39;00m module_str \u001b[39mnot\u001b[39;00m \u001b[39min\u001b[39;00m sys\u001b[39m.\u001b[39mmodules:\n\u001b[0;32m---> 91\u001b[0m         mod \u001b[39m=\u001b[39m import_module(module_str)\n\u001b[1;32m     92\u001b[0m     mod \u001b[39m=\u001b[39m sys\u001b[39m.\u001b[39mmodules[module_str]\n\u001b[1;32m     93\u001b[0m     \u001b[39mif\u001b[39;00m \u001b[39mself\u001b[39m\u001b[39m.\u001b[39m_call_load_ipython_extension(mod):\n",
      "File \u001b[0;32m/usr/local/Caskroom/miniconda/base/envs/GroupProject-m154/lib/python3.10/importlib/__init__.py:126\u001b[0m, in \u001b[0;36mimport_module\u001b[0;34m(name, package)\u001b[0m\n\u001b[1;32m    124\u001b[0m             \u001b[39mbreak\u001b[39;00m\n\u001b[1;32m    125\u001b[0m         level \u001b[39m+\u001b[39m\u001b[39m=\u001b[39m \u001b[39m1\u001b[39m\n\u001b[0;32m--> 126\u001b[0m \u001b[39mreturn\u001b[39;00m _bootstrap\u001b[39m.\u001b[39;49m_gcd_import(name[level:], package, level)\n",
      "File \u001b[0;32m<frozen importlib._bootstrap>:1050\u001b[0m, in \u001b[0;36m_gcd_import\u001b[0;34m(name, package, level)\u001b[0m\n",
      "File \u001b[0;32m<frozen importlib._bootstrap>:1027\u001b[0m, in \u001b[0;36m_find_and_load\u001b[0;34m(name, import_)\u001b[0m\n",
      "File \u001b[0;32m<frozen importlib._bootstrap>:1006\u001b[0m, in \u001b[0;36m_find_and_load_unlocked\u001b[0;34m(name, import_)\u001b[0m\n",
      "File \u001b[0;32m<frozen importlib._bootstrap>:688\u001b[0m, in \u001b[0;36m_load_unlocked\u001b[0;34m(spec)\u001b[0m\n",
      "File \u001b[0;32m<frozen importlib._bootstrap_external>:883\u001b[0m, in \u001b[0;36mexec_module\u001b[0;34m(self, module)\u001b[0m\n",
      "File \u001b[0;32m<frozen importlib._bootstrap>:241\u001b[0m, in \u001b[0;36m_call_with_frames_removed\u001b[0;34m(f, *args, **kwds)\u001b[0m\n",
      "File \u001b[0;32m/usr/local/Caskroom/miniconda/base/envs/GroupProject-m154/lib/python3.10/site-packages/rpy2/ipython/__init__.py:1\u001b[0m\n\u001b[0;32m----> 1\u001b[0m \u001b[39mfrom\u001b[39;00m \u001b[39m.\u001b[39;00m \u001b[39mimport\u001b[39;00m rmagic\n\u001b[1;32m      3\u001b[0m load_ipython_extension \u001b[39m=\u001b[39m rmagic\u001b[39m.\u001b[39mload_ipython_extension\n",
      "File \u001b[0;32m/usr/local/Caskroom/miniconda/base/envs/GroupProject-m154/lib/python3.10/site-packages/rpy2/ipython/rmagic.py:57\u001b[0m\n\u001b[1;32m     55\u001b[0m \u001b[39mimport\u001b[39;00m \u001b[39mrpy2\u001b[39;00m\u001b[39m.\u001b[39;00m\u001b[39mrinterface\u001b[39;00m \u001b[39mas\u001b[39;00m \u001b[39mri\u001b[39;00m\n\u001b[1;32m     56\u001b[0m \u001b[39mimport\u001b[39;00m \u001b[39mrpy2\u001b[39;00m\u001b[39m.\u001b[39;00m\u001b[39mrinterface_lib\u001b[39;00m\u001b[39m.\u001b[39;00m\u001b[39mcallbacks\u001b[39;00m\n\u001b[0;32m---> 57\u001b[0m \u001b[39mimport\u001b[39;00m \u001b[39mrpy2\u001b[39;00m\u001b[39m.\u001b[39;00m\u001b[39mrobjects\u001b[39;00m \u001b[39mas\u001b[39;00m \u001b[39mro\u001b[39;00m\n\u001b[1;32m     58\u001b[0m \u001b[39mimport\u001b[39;00m \u001b[39mrpy2\u001b[39;00m\u001b[39m.\u001b[39;00m\u001b[39mrobjects\u001b[39;00m\u001b[39m.\u001b[39;00m\u001b[39mpackages\u001b[39;00m \u001b[39mas\u001b[39;00m \u001b[39mrpacks\u001b[39;00m\n\u001b[1;32m     59\u001b[0m \u001b[39mfrom\u001b[39;00m \u001b[39mrpy2\u001b[39;00m\u001b[39m.\u001b[39;00m\u001b[39mrobjects\u001b[39;00m\u001b[39m.\u001b[39;00m\u001b[39mlib\u001b[39;00m \u001b[39mimport\u001b[39;00m grdevices\n",
      "File \u001b[0;32m/usr/local/Caskroom/miniconda/base/envs/GroupProject-m154/lib/python3.10/site-packages/rpy2/robjects/__init__.py:18\u001b[0m\n\u001b[1;32m     15\u001b[0m \u001b[39mimport\u001b[39;00m \u001b[39mrpy2\u001b[39;00m\u001b[39m.\u001b[39;00m\u001b[39mrinterface\u001b[39;00m \u001b[39mas\u001b[39;00m \u001b[39mrinterface\u001b[39;00m\n\u001b[1;32m     16\u001b[0m \u001b[39mimport\u001b[39;00m \u001b[39mrpy2\u001b[39;00m\u001b[39m.\u001b[39;00m\u001b[39mrlike\u001b[39;00m\u001b[39m.\u001b[39;00m\u001b[39mcontainer\u001b[39;00m \u001b[39mas\u001b[39;00m \u001b[39mrlc\u001b[39;00m\n\u001b[0;32m---> 18\u001b[0m \u001b[39mfrom\u001b[39;00m \u001b[39mrpy2\u001b[39;00m\u001b[39m.\u001b[39;00m\u001b[39mrobjects\u001b[39;00m\u001b[39m.\u001b[39;00m\u001b[39mrobject\u001b[39;00m \u001b[39mimport\u001b[39;00m RObjectMixin, RObject\n\u001b[1;32m     19\u001b[0m \u001b[39mimport\u001b[39;00m \u001b[39mrpy2\u001b[39;00m\u001b[39m.\u001b[39;00m\u001b[39mrobjects\u001b[39;00m\u001b[39m.\u001b[39;00m\u001b[39mfunctions\u001b[39;00m\n\u001b[1;32m     20\u001b[0m \u001b[39mfrom\u001b[39;00m \u001b[39mrpy2\u001b[39;00m\u001b[39m.\u001b[39;00m\u001b[39mrobjects\u001b[39;00m\u001b[39m.\u001b[39;00m\u001b[39menvironments\u001b[39;00m \u001b[39mimport\u001b[39;00m (Environment,\n\u001b[1;32m     21\u001b[0m                                         local_context)\n",
      "File \u001b[0;32m/usr/local/Caskroom/miniconda/base/envs/GroupProject-m154/lib/python3.10/site-packages/rpy2/robjects/robject.py:10\u001b[0m\n\u001b[1;32m      6\u001b[0m \u001b[39mimport\u001b[39;00m \u001b[39mrpy2\u001b[39;00m\u001b[39m.\u001b[39;00m\u001b[39mrinterface_lib\u001b[39;00m\u001b[39m.\u001b[39;00m\u001b[39mcallbacks\u001b[39;00m\n\u001b[1;32m      8\u001b[0m \u001b[39mfrom\u001b[39;00m \u001b[39mrpy2\u001b[39;00m\u001b[39m.\u001b[39;00m\u001b[39mrobjects\u001b[39;00m \u001b[39mimport\u001b[39;00m conversion\n\u001b[0;32m---> 10\u001b[0m rpy2\u001b[39m.\u001b[39;49mrinterface\u001b[39m.\u001b[39;49minitr_simple()\n\u001b[1;32m     13\u001b[0m \u001b[39mdef\u001b[39;00m \u001b[39m_add_warn_reticulate_hook\u001b[39m():\n\u001b[1;32m     14\u001b[0m     msg \u001b[39m=\u001b[39m \u001b[39m\"\"\"\u001b[39m\n\u001b[1;32m     15\u001b[0m \u001b[39m    WARNING: The R package \u001b[39m\u001b[39m\"\u001b[39m\u001b[39mreticulate\u001b[39m\u001b[39m\"\u001b[39m\u001b[39m does not\u001b[39m\n\u001b[1;32m     16\u001b[0m \u001b[39m    consider that it could be called from a Python process. This\u001b[39m\n\u001b[0;32m   (...)\u001b[0m\n\u001b[1;32m     25\u001b[0m \u001b[39m    https://github.com/rstudio/reticulate/issues/208\u001b[39m\n\u001b[1;32m     26\u001b[0m \u001b[39m    \u001b[39m\u001b[39m\"\"\"\u001b[39m\n",
      "File \u001b[0;32m/usr/local/Caskroom/miniconda/base/envs/GroupProject-m154/lib/python3.10/site-packages/rpy2/rinterface.py:988\u001b[0m, in \u001b[0;36minitr_simple\u001b[0;34m()\u001b[0m\n\u001b[1;32m    986\u001b[0m \u001b[39m\"\"\"Initialize R's embedded C library.\"\"\"\u001b[39;00m\n\u001b[1;32m    987\u001b[0m \u001b[39mwith\u001b[39;00m openrlib\u001b[39m.\u001b[39mrlock:\n\u001b[0;32m--> 988\u001b[0m     status \u001b[39m=\u001b[39m embedded\u001b[39m.\u001b[39;49m_initr()\n\u001b[1;32m    989\u001b[0m     atexit\u001b[39m.\u001b[39mregister(endr, \u001b[39m0\u001b[39m)\n\u001b[1;32m    990\u001b[0m     _rinterface\u001b[39m.\u001b[39m_register_external_symbols()\n",
      "File \u001b[0;32m/usr/local/Caskroom/miniconda/base/envs/GroupProject-m154/lib/python3.10/site-packages/rpy2/rinterface_lib/embedded.py:256\u001b[0m, in \u001b[0;36m_initr\u001b[0;34m(interactive, _want_setcallbacks, _c_stack_limit)\u001b[0m\n\u001b[1;32m    254\u001b[0m     \u001b[39mreturn\u001b[39;00m \u001b[39mNone\u001b[39;00m\n\u001b[1;32m    255\u001b[0m \u001b[39melif\u001b[39;00m openrlib\u001b[39m.\u001b[39mR_HOME \u001b[39mis\u001b[39;00m \u001b[39mNone\u001b[39;00m:\n\u001b[0;32m--> 256\u001b[0m     \u001b[39mraise\u001b[39;00m \u001b[39mValueError\u001b[39;00m(\u001b[39m'\u001b[39m\u001b[39mopenrlib.R_HOME cannot be None.\u001b[39m\u001b[39m'\u001b[39m)\n\u001b[1;32m    257\u001b[0m \u001b[39melif\u001b[39;00m openrlib\u001b[39m.\u001b[39mrlib\u001b[39m.\u001b[39mR_NilValue \u001b[39m!=\u001b[39m ffi\u001b[39m.\u001b[39mNULL:\n\u001b[1;32m    258\u001b[0m     msg \u001b[39m=\u001b[39m (\u001b[39m'\u001b[39m\u001b[39mR was initialized outside of rpy2 (R_NilValue != NULL). \u001b[39m\u001b[39m'\u001b[39m\n\u001b[1;32m    259\u001b[0m            \u001b[39m'\u001b[39m\u001b[39mTrying to use it nevertheless.\u001b[39m\u001b[39m'\u001b[39m)\n",
      "\u001b[0;31mValueError\u001b[0m: openrlib.R_HOME cannot be None."
     ]
    }
   ],
   "source": [
    "%load_ext rpy2.ipython"
   ]
  },
  {
   "cell_type": "markdown",
   "metadata": {},
   "source": [
    "# Group Project\n",
    "\n",
    "> Authors: Tesfa Asmara, Arsh Chhabra, Brandon Kaplan, Sam Sasaki"
   ]
  },
  {
   "cell_type": "code",
   "execution_count": 10,
   "metadata": {},
   "outputs": [],
   "source": [
    "%%R\n",
    "library(randomForest)\n",
    "library(tibble)\n",
    "\n",
    "readRenviron(\"./.group_project_r_env\")\n",
    "GiveMeSomeCreditTrainingCSV <- Sys.getenv(\"GiveMeSomeCreditTrainingCSV\")\n",
    "GiveMeSomeCreditTestCSV <- Sys.getenv(\"GiveMeSomeCreditTestCSV\")\n",
    "GiveMeSomeCreditSampleEntryCSV <- Sys.getenv(\"GiveMeSomeCreditSampleEntryCSV\")\n",
    "set.seed(47)\n",
    "\n",
    "training_data <- read.csv(file = GiveMeSomeCreditTrainingCSV)"
   ]
  },
  {
   "cell_type": "code",
   "execution_count": 12,
   "metadata": {},
   "outputs": [
    {
     "name": "stdout",
     "output_type": "stream",
     "text": [
      "tibble [150,000 × 12] (S3: tbl_df/tbl/data.frame)\n",
      " $ X                                   : int [1:150000] 1 2 3 4 5 6 7 8 9 10 ...\n",
      " $ SeriousDlqin2yrs                    : int [1:150000] 1 0 0 0 0 0 0 0 0 0 ...\n",
      " $ RevolvingUtilizationOfUnsecuredLines: num [1:150000] 0.766 0.957 0.658 0.234 0.907 ...\n",
      " $ age                                 : int [1:150000] 45 40 38 30 49 74 57 39 27 57 ...\n",
      " $ NumberOfTime30.59DaysPastDueNotWorse: int [1:150000] 2 0 1 0 1 0 0 0 0 0 ...\n",
      " $ DebtRatio                           : num [1:150000] 0.803 0.1219 0.0851 0.036 0.0249 ...\n",
      " $ MonthlyIncome                       : int [1:150000] 9120 2600 3042 3300 63588 3500 NA 3500 NA 23684 ...\n",
      " $ NumberOfOpenCreditLinesAndLoans     : int [1:150000] 13 4 2 5 7 3 8 8 2 9 ...\n",
      " $ NumberOfTimes90DaysLate             : int [1:150000] 0 0 1 0 0 0 0 0 0 0 ...\n",
      " $ NumberRealEstateLoansOrLines        : int [1:150000] 6 0 0 0 1 1 3 0 0 4 ...\n",
      " $ NumberOfTime60.89DaysPastDueNotWorse: int [1:150000] 0 0 0 0 0 0 0 0 0 0 ...\n",
      " $ NumberOfDependents                  : int [1:150000] 2 1 0 0 0 1 0 0 NA 2 ...\n",
      "       X          SeriousDlqin2yrs  RevolvingUtilizationOfUnsecuredLines\n",
      " Min.   :     1   Min.   :0.00000   Min.   :    0.00                    \n",
      " 1st Qu.: 37501   1st Qu.:0.00000   1st Qu.:    0.03                    \n",
      " Median : 75000   Median :0.00000   Median :    0.15                    \n",
      " Mean   : 75000   Mean   :0.06684   Mean   :    6.05                    \n",
      " 3rd Qu.:112500   3rd Qu.:0.00000   3rd Qu.:    0.56                    \n",
      " Max.   :150000   Max.   :1.00000   Max.   :50708.00                    \n",
      "                                                                        \n",
      "      age        NumberOfTime30.59DaysPastDueNotWorse   DebtRatio       \n",
      " Min.   :  0.0   Min.   : 0.000                       Min.   :     0.0  \n",
      " 1st Qu.: 41.0   1st Qu.: 0.000                       1st Qu.:     0.2  \n",
      " Median : 52.0   Median : 0.000                       Median :     0.4  \n",
      " Mean   : 52.3   Mean   : 0.421                       Mean   :   353.0  \n",
      " 3rd Qu.: 63.0   3rd Qu.: 0.000                       3rd Qu.:     0.9  \n",
      " Max.   :109.0   Max.   :98.000                       Max.   :329664.0  \n",
      "                                                                        \n",
      " MonthlyIncome     NumberOfOpenCreditLinesAndLoans NumberOfTimes90DaysLate\n",
      " Min.   :      0   Min.   : 0.000                  Min.   : 0.000         \n",
      " 1st Qu.:   3400   1st Qu.: 5.000                  1st Qu.: 0.000         \n",
      " Median :   5400   Median : 8.000                  Median : 0.000         \n",
      " Mean   :   6670   Mean   : 8.453                  Mean   : 0.266         \n",
      " 3rd Qu.:   8249   3rd Qu.:11.000                  3rd Qu.: 0.000         \n",
      " Max.   :3008750   Max.   :58.000                  Max.   :98.000         \n",
      " NA's   :29731                                                            \n",
      " NumberRealEstateLoansOrLines NumberOfTime60.89DaysPastDueNotWorse\n",
      " Min.   : 0.000               Min.   : 0.0000                     \n",
      " 1st Qu.: 0.000               1st Qu.: 0.0000                     \n",
      " Median : 1.000               Median : 0.0000                     \n",
      " Mean   : 1.018               Mean   : 0.2404                     \n",
      " 3rd Qu.: 2.000               3rd Qu.: 0.0000                     \n",
      " Max.   :54.000               Max.   :98.0000                     \n",
      "                                                                  \n",
      " NumberOfDependents\n",
      " Min.   : 0.000    \n",
      " 1st Qu.: 0.000    \n",
      " Median : 0.000    \n",
      " Mean   : 0.757    \n",
      " 3rd Qu.: 1.000    \n",
      " Max.   :20.000    \n",
      " NA's   :3924      \n"
     ]
    }
   ],
   "source": [
    "%%R\n",
    "table <- as_tibble(training_data)\n",
    "str(table)\n",
    "summary(table)"
   ]
  },
  {
   "cell_type": "code",
   "execution_count": 6,
   "metadata": {},
   "outputs": [
    {
     "name": "stdout",
     "output_type": "stream",
     "text": [
      "'data.frame':\t150000 obs. of  12 variables:\n",
      " $ X                                   : int  1 2 3 4 5 6 7 8 9 10 ...\n",
      " $ SeriousDlqin2yrs                    : Factor w/ 2 levels \"No\",\"Yes\": 2 1 1 1 1 1 1 1 1 1 ...\n",
      " $ RevolvingUtilizationOfUnsecuredLines: num  0.766 0.957 0.658 0.234 0.907 ...\n",
      " $ age                                 : Factor w/ 86 levels \"0\",\"21\",\"22\",..: 26 21 19 11 30 55 38 20 8 38 ...\n",
      " $ NumberOfTime30.59DaysPastDueNotWorse: Factor w/ 16 levels \"0\",\"1\",\"2\",\"3\",..: 3 1 2 1 2 1 1 1 1 1 ...\n",
      " $ DebtRatio                           : num  0.803 0.1219 0.0851 0.036 0.0249 ...\n",
      " $ MonthlyIncome                       : Factor w/ 13594 levels \"0\",\"1\",\"2\",\"4\",..: 8219 1924 2358 2612 13453 2812 NA 2812 NA 12968 ...\n",
      " $ NumberOfOpenCreditLinesAndLoans     : Factor w/ 58 levels \"0\",\"1\",\"2\",\"3\",..: 14 5 3 6 8 4 9 9 3 10 ...\n",
      " $ NumberOfTimes90DaysLate             : Factor w/ 19 levels \"0\",\"1\",\"2\",\"3\",..: 1 1 2 1 1 1 1 1 1 1 ...\n",
      " $ NumberRealEstateLoansOrLines        : Factor w/ 28 levels \"0\",\"1\",\"2\",\"3\",..: 7 1 1 1 2 2 4 1 1 5 ...\n",
      " $ NumberOfTime60.89DaysPastDueNotWorse: Factor w/ 13 levels \"0\",\"1\",\"2\",\"3\",..: 1 1 1 1 1 1 1 1 1 1 ...\n",
      " $ NumberOfDependents                  : Factor w/ 13 levels \"0\",\"1\",\"2\",\"3\",..: 3 2 1 1 1 2 1 1 NA 3 ...\n"
     ]
    }
   ],
   "source": [
    "%%R\n",
    "#turn variables from numerics to factors\n",
    "training_data$age <- as.factor(training_data$age)\n",
    "training_data$NumberOfTime30.59DaysPastDueNotWorse <- as.factor(training_data$NumberOfTime30.59DaysPastDueNotWorse)\n",
    "training_data$MonthlyIncome <- as.factor(training_data$MonthlyIncome)\n",
    "training_data$NumberOfOpenCreditLinesAndLoans <- as.factor(training_data$NumberOfOpenCreditLinesAndLoans)\n",
    "training_data$NumberOfTimes90DaysLate <- as.factor(training_data$NumberOfTimes90DaysLate)\n",
    "training_data$NumberRealEstateLoansOrLines <- as.factor(training_data$NumberRealEstateLoansOrLines)\n",
    "training_data$NumberOfTime60.89DaysPastDueNotWorse <- as.factor(training_data$NumberOfTime60.89DaysPastDueNotWorse)\n",
    "training_data$NumberOfDependents <- as.factor(training_data$NumberOfDependents)\n",
    "\n",
    "training_data$SeriousDlqin2yrs <- ifelse(test=training_data$SeriousDlqin2yrs == 0, yes=\"No\", no=\"Yes\") #turns 0 and 1 into no and yes\n",
    "training_data$SeriousDlqin2yrs <- as.factor(training_data$SeriousDlqin2yrs)\n",
    "\n",
    "str(training_data)\n",
    "#imputing N/A values\n",
    "\n",
    "#getting an error here running rfImpute, something like there are too many categories, maybe look at the structure for clues.\n",
    "#training_data.rf <- rfImpute(SeriousDlqin2yrs ~ ., data = training_data,iter = 6)"
   ]
  },
  {
   "cell_type": "code",
   "execution_count": 8,
   "metadata": {},
   "outputs": [
    {
     "name": "stdout",
     "output_type": "stream",
     "text": [
      " [1] \"0\"   \"21\"  \"22\"  \"23\"  \"24\"  \"25\"  \"26\"  \"27\"  \"28\"  \"29\"  \"30\"  \"31\" \n",
      "[13] \"32\"  \"33\"  \"34\"  \"35\"  \"36\"  \"37\"  \"38\"  \"39\"  \"40\"  \"41\"  \"42\"  \"43\" \n",
      "[25] \"44\"  \"45\"  \"46\"  \"47\"  \"48\"  \"49\"  \"50\"  \"51\"  \"52\"  \"53\"  \"54\"  \"55\" \n",
      "[37] \"56\"  \"57\"  \"58\"  \"59\"  \"60\"  \"61\"  \"62\"  \"63\"  \"64\"  \"65\"  \"66\"  \"67\" \n",
      "[49] \"68\"  \"69\"  \"70\"  \"71\"  \"72\"  \"73\"  \"74\"  \"75\"  \"76\"  \"77\"  \"78\"  \"79\" \n",
      "[61] \"80\"  \"81\"  \"82\"  \"83\"  \"84\"  \"85\"  \"86\"  \"87\"  \"88\"  \"89\"  \"90\"  \"91\" \n",
      "[73] \"92\"  \"93\"  \"94\"  \"95\"  \"96\"  \"97\"  \"98\"  \"99\"  \"101\" \"102\" \"103\" \"105\"\n",
      "[85] \"107\" \"109\"\n"
     ]
    }
   ],
   "source": [
    "%%R\n",
    "#training_data.imp <- missForest(training_data) "
   ]
  }
 ],
 "metadata": {
  "kernelspec": {
   "display_name": "Python 3.10.6 ('GroupProject-m154')",
   "language": "python",
   "name": "python3"
<<<<<<< HEAD
  },
  "language_info": {
   "name": "python",
   "version": "3.10.6"
  },
  "vscode": {
   "interpreter": {
    "hash": "c6e244dd35c83ee1d23c25d30d19b3f743c34e80fa56282ef16d553800722480"
   }
=======
<<<<<<< HEAD
  },
  "language_info": {
   "codemirror_mode": {
    "name": "ipython",
    "version": 3
   },
   "file_extension": ".py",
   "mimetype": "text/x-python",
   "name": "python",
   "nbconvert_exporter": "python",
   "pygments_lexer": "ipython3",
   "version": "3.10.6"
  },
  "orig_nbformat": 4,
  "vscode": {
   "interpreter": {
    "hash": "fe2acf4062c13326f8f7f2a65123574934898c6a12e76d22b1009fe917961a3b"
   }
=======
>>>>>>> refs/remotes/origin/main
>>>>>>> refs/remotes/origin/main
  }
 },
 "nbformat": 4,
 "nbformat_minor": 2
}
