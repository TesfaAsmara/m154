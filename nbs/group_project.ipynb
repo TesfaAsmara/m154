{
 "cells": [
  {
   "cell_type": "code",
   "execution_count": 15,
   "metadata": {},
   "outputs": [
    {
     "name": "stdout",
     "output_type": "stream",
     "text": [
      "The rpy2.ipython extension is already loaded. To reload it, use:\n",
      "  %reload_ext rpy2.ipython\n"
     ]
    }
   ],
   "source": [
    "%load_ext rpy2.ipython"
   ]
  },
  {
   "cell_type": "markdown",
   "metadata": {},
   "source": [
    "# Group Project\n",
    "\n",
    "> Authors: Tesfa Asmara, Arsh Chhabra, Brandon Kaplan, Sam Sasaki"
   ]
  },
  {
   "cell_type": "code",
   "execution_count": 16,
   "metadata": {},
   "outputs": [],
   "source": [
    "%%R\n",
    "library(randomForest)\n",
    "library(tibble)\n",
    "library(missForest)\n",
    "\n",
    "readRenviron(\"./.group_project_r_env\")\n",
    "GiveMeSomeCreditTrainingCSV <- Sys.getenv(\"GiveMeSomeCreditTrainingCSV\")\n",
    "GiveMeSomeCreditTestCSV <- Sys.getenv(\"GiveMeSomeCreditTestCSV\")\n",
    "GiveMeSomeCreditSampleEntryCSV <- Sys.getenv(\"GiveMeSomeCreditSampleEntryCSV\")\n",
    "set.seed(47)\n",
    "\n",
    "training_data <- read.csv(file = GiveMeSomeCreditTrainingCSV)"
   ]
  },
  {
   "cell_type": "code",
   "execution_count": 17,
   "metadata": {},
   "outputs": [
    {
     "name": "stdout",
     "output_type": "stream",
     "text": [
      "'data.frame':\t150000 obs. of  12 variables:\n",
      " $ X                                   : int  1 2 3 4 5 6 7 8 9 10 ...\n",
      " $ SeriousDlqin2yrs                    : Factor w/ 2 levels \"No\",\"Yes\": 2 1 1 1 1 1 1 1 1 1 ...\n",
      " $ RevolvingUtilizationOfUnsecuredLines: num  0.766 0.957 0.658 0.234 0.907 ...\n",
      " $ age                                 : Factor w/ 86 levels \"0\",\"21\",\"22\",..: 26 21 19 11 30 55 38 20 8 38 ...\n",
      " $ NumberOfTime30.59DaysPastDueNotWorse: Factor w/ 16 levels \"0\",\"1\",\"2\",\"3\",..: 3 1 2 1 2 1 1 1 1 1 ...\n",
      " $ DebtRatio                           : num  0.803 0.1219 0.0851 0.036 0.0249 ...\n",
      " $ MonthlyIncome                       : Factor w/ 13594 levels \"0\",\"1\",\"2\",\"4\",..: 8219 1924 2358 2612 13453 2812 NA 2812 NA 12968 ...\n",
      " $ NumberOfOpenCreditLinesAndLoans     : Factor w/ 58 levels \"0\",\"1\",\"2\",\"3\",..: 14 5 3 6 8 4 9 9 3 10 ...\n",
      " $ NumberOfTimes90DaysLate             : Factor w/ 19 levels \"0\",\"1\",\"2\",\"3\",..: 1 1 2 1 1 1 1 1 1 1 ...\n",
      " $ NumberRealEstateLoansOrLines        : Factor w/ 28 levels \"0\",\"1\",\"2\",\"3\",..: 7 1 1 1 2 2 4 1 1 5 ...\n",
      " $ NumberOfTime60.89DaysPastDueNotWorse: Factor w/ 13 levels \"0\",\"1\",\"2\",\"3\",..: 1 1 1 1 1 1 1 1 1 1 ...\n",
      " $ NumberOfDependents                  : Factor w/ 13 levels \"0\",\"1\",\"2\",\"3\",..: 3 2 1 1 1 2 1 1 NA 3 ...\n"
     ]
    }
   ],
   "source": [
    "%%R\n",
    "#turn variables from numerics to factors\n",
    "training_data$age <- as.factor(training_data$age)\n",
    "training_data$NumberOfTime30.59DaysPastDueNotWorse <- as.factor(training_data$NumberOfTime30.59DaysPastDueNotWorse)\n",
    "training_data$MonthlyIncome <- as.factor(training_data$MonthlyIncome)\n",
    "training_data$NumberOfOpenCreditLinesAndLoans <- as.factor(training_data$NumberOfOpenCreditLinesAndLoans)\n",
    "training_data$NumberOfTimes90DaysLate <- as.factor(training_data$NumberOfTimes90DaysLate)\n",
    "training_data$NumberRealEstateLoansOrLines <- as.factor(training_data$NumberRealEstateLoansOrLines)\n",
    "training_data$NumberOfTime60.89DaysPastDueNotWorse <- as.factor(training_data$NumberOfTime60.89DaysPastDueNotWorse)\n",
    "training_data$NumberOfDependents <- as.factor(training_data$NumberOfDependents)\n",
    "\n",
    "training_data$SeriousDlqin2yrs <- ifelse(test=training_data$SeriousDlqin2yrs == 0, yes=\"No\", no=\"Yes\") #turns 0 and 1 into no and yes\n",
    "training_data$SeriousDlqin2yrs <- as.factor(training_data$SeriousDlqin2yrs)\n",
    "\n",
    "str(training_data)\n",
    "#imputing N/A values\n",
    "\n",
    "#getting an error here running rfImpute, something like there are too many categories, maybe look at the structure for clues.\n",
    "#training_data.rf <- rfImpute(SeriousDlqin2yrs ~ ., data = training_data,iter = 6)"
   ]
  },
  {
   "cell_type": "code",
   "execution_count": 18,
   "metadata": {},
   "outputs": [
    {
     "name": "stderr",
     "output_type": "stream",
     "text": [
      "R[write to console]: Error in randomForest.default(x = obsX, y = obsY, ntree = ntree, mtry = mtry,  : \n",
      "  Can not handle categorical predictors with more than 53 categories.\n",
      "\n"
     ]
    },
    {
     "name": "stdout",
     "output_type": "stream",
     "text": [
      "\n",
      "Error in randomForest.default(x = obsX, y = obsY, ntree = ntree, mtry = mtry,  : \n",
      "  Can not handle categorical predictors with more than 53 categories.\n"
     ]
    },
    {
     "ename": "RInterpreterError",
     "evalue": "Failed to parse and evaluate line 'imp_train_X <- missForest(training_data)$ximp\\n'.\nR error message: 'Error in randomForest.default(x = obsX, y = obsY, ntree = ntree, mtry = mtry,  : \\n  Can not handle categorical predictors with more than 53 categories.'",
     "output_type": "error",
     "traceback": [
      "\u001b[0;31m---------------------------------------------------------------------------\u001b[0m",
      "\u001b[0;31mRRuntimeError\u001b[0m                             Traceback (most recent call last)",
      "File \u001b[0;32m/opt/homebrew/Caskroom/miniforge/base/envs/m154env/lib/python3.10/site-packages/rpy2/ipython/rmagic.py:280\u001b[0m, in \u001b[0;36mRMagics.eval\u001b[0;34m(self, code)\u001b[0m\n\u001b[1;32m    278\u001b[0m \u001b[39mtry\u001b[39;00m:\n\u001b[1;32m    279\u001b[0m     \u001b[39m# Need the newline in case the last line in code is a comment.\u001b[39;00m\n\u001b[0;32m--> 280\u001b[0m     value, visible \u001b[39m=\u001b[39m ro\u001b[39m.\u001b[39;49mr(\u001b[39m\"\u001b[39;49m\u001b[39mwithVisible(\u001b[39;49m\u001b[39m{\u001b[39;49m\u001b[39m%s\u001b[39;49;00m\u001b[39m\\n\u001b[39;49;00m\u001b[39m})\u001b[39;49m\u001b[39m\"\u001b[39;49m \u001b[39m%\u001b[39;49m code)\n\u001b[1;32m    281\u001b[0m \u001b[39mexcept\u001b[39;00m (ri\u001b[39m.\u001b[39membedded\u001b[39m.\u001b[39mRRuntimeError, \u001b[39mValueError\u001b[39;00m) \u001b[39mas\u001b[39;00m exception:\n\u001b[1;32m    282\u001b[0m     \u001b[39m# Otherwise next return seems to have copy of error.\u001b[39;00m\n",
      "File \u001b[0;32m/opt/homebrew/Caskroom/miniforge/base/envs/m154env/lib/python3.10/site-packages/rpy2/robjects/__init__.py:451\u001b[0m, in \u001b[0;36mR.__call__\u001b[0;34m(self, string)\u001b[0m\n\u001b[1;32m    450\u001b[0m p \u001b[39m=\u001b[39m rinterface\u001b[39m.\u001b[39mparse(string)\n\u001b[0;32m--> 451\u001b[0m res \u001b[39m=\u001b[39m \u001b[39mself\u001b[39;49m\u001b[39m.\u001b[39;49meval(p)\n\u001b[1;32m    452\u001b[0m \u001b[39mreturn\u001b[39;00m conversion\u001b[39m.\u001b[39mrpy2py(res)\n",
      "File \u001b[0;32m/opt/homebrew/Caskroom/miniforge/base/envs/m154env/lib/python3.10/site-packages/rpy2/robjects/functions.py:201\u001b[0m, in \u001b[0;36mSignatureTranslatedFunction.__call__\u001b[0;34m(self, *args, **kwargs)\u001b[0m\n\u001b[1;32m    200\u001b[0m         kwargs[r_k] \u001b[39m=\u001b[39m v\n\u001b[0;32m--> 201\u001b[0m \u001b[39mreturn\u001b[39;00m (\u001b[39msuper\u001b[39;49m(SignatureTranslatedFunction, \u001b[39mself\u001b[39;49m)\n\u001b[1;32m    202\u001b[0m         \u001b[39m.\u001b[39;49m\u001b[39m__call__\u001b[39;49m(\u001b[39m*\u001b[39;49margs, \u001b[39m*\u001b[39;49m\u001b[39m*\u001b[39;49mkwargs))\n",
      "File \u001b[0;32m/opt/homebrew/Caskroom/miniforge/base/envs/m154env/lib/python3.10/site-packages/rpy2/robjects/functions.py:124\u001b[0m, in \u001b[0;36mFunction.__call__\u001b[0;34m(self, *args, **kwargs)\u001b[0m\n\u001b[1;32m    123\u001b[0m         new_kwargs[k] \u001b[39m=\u001b[39m conversion\u001b[39m.\u001b[39mpy2rpy(v)\n\u001b[0;32m--> 124\u001b[0m res \u001b[39m=\u001b[39m \u001b[39msuper\u001b[39;49m(Function, \u001b[39mself\u001b[39;49m)\u001b[39m.\u001b[39;49m\u001b[39m__call__\u001b[39;49m(\u001b[39m*\u001b[39;49mnew_args, \u001b[39m*\u001b[39;49m\u001b[39m*\u001b[39;49mnew_kwargs)\n\u001b[1;32m    125\u001b[0m res \u001b[39m=\u001b[39m conversion\u001b[39m.\u001b[39mrpy2py(res)\n",
      "File \u001b[0;32m/opt/homebrew/Caskroom/miniforge/base/envs/m154env/lib/python3.10/site-packages/rpy2/rinterface_lib/conversion.py:45\u001b[0m, in \u001b[0;36m_cdata_res_to_rinterface.<locals>._\u001b[0;34m(*args, **kwargs)\u001b[0m\n\u001b[1;32m     44\u001b[0m \u001b[39mdef\u001b[39;00m \u001b[39m_\u001b[39m(\u001b[39m*\u001b[39margs, \u001b[39m*\u001b[39m\u001b[39m*\u001b[39mkwargs):\n\u001b[0;32m---> 45\u001b[0m     cdata \u001b[39m=\u001b[39m function(\u001b[39m*\u001b[39;49margs, \u001b[39m*\u001b[39;49m\u001b[39m*\u001b[39;49mkwargs)\n\u001b[1;32m     46\u001b[0m     \u001b[39m# TODO: test cdata is of the expected CType\u001b[39;00m\n",
      "File \u001b[0;32m/opt/homebrew/Caskroom/miniforge/base/envs/m154env/lib/python3.10/site-packages/rpy2/rinterface.py:810\u001b[0m, in \u001b[0;36mSexpClosure.__call__\u001b[0;34m(self, *args, **kwargs)\u001b[0m\n\u001b[1;32m    809\u001b[0m     \u001b[39mif\u001b[39;00m error_occured[\u001b[39m0\u001b[39m]:\n\u001b[0;32m--> 810\u001b[0m         \u001b[39mraise\u001b[39;00m embedded\u001b[39m.\u001b[39mRRuntimeError(_rinterface\u001b[39m.\u001b[39m_geterrmessage())\n\u001b[1;32m    811\u001b[0m \u001b[39mreturn\u001b[39;00m res\n",
      "\u001b[0;31mRRuntimeError\u001b[0m: Error in randomForest.default(x = obsX, y = obsY, ntree = ntree, mtry = mtry,  : \n  Can not handle categorical predictors with more than 53 categories.\n",
      "\nDuring handling of the above exception, another exception occurred:\n",
      "\u001b[0;31mRInterpreterError\u001b[0m                         Traceback (most recent call last)",
      "\u001b[1;32m/Users/tesfaasmara/Documents/GitHub/m154/nbs/group_project.ipynb Cell 5'\u001b[0m in \u001b[0;36m<cell line: 1>\u001b[0;34m()\u001b[0m\n\u001b[0;32m----> <a href='vscode-notebook-cell:/Users/tesfaasmara/Documents/GitHub/m154/nbs/group_project.ipynb#ch0000005?line=0'>1</a>\u001b[0m get_ipython()\u001b[39m.\u001b[39;49mrun_cell_magic(\u001b[39m'\u001b[39;49m\u001b[39mR\u001b[39;49m\u001b[39m'\u001b[39;49m, \u001b[39m'\u001b[39;49m\u001b[39m'\u001b[39;49m, \u001b[39m'\u001b[39;49m\u001b[39mimp_train_X <- missForest(training_data)$ximp\u001b[39;49m\u001b[39m\\n\u001b[39;49;00m\u001b[39m'\u001b[39;49m)\n",
      "File \u001b[0;32m/opt/homebrew/Caskroom/miniforge/base/envs/m154env/lib/python3.10/site-packages/IPython/core/interactiveshell.py:2357\u001b[0m, in \u001b[0;36mInteractiveShell.run_cell_magic\u001b[0;34m(self, magic_name, line, cell)\u001b[0m\n\u001b[1;32m   2355\u001b[0m \u001b[39mwith\u001b[39;00m \u001b[39mself\u001b[39m\u001b[39m.\u001b[39mbuiltin_trap:\n\u001b[1;32m   2356\u001b[0m     args \u001b[39m=\u001b[39m (magic_arg_s, cell)\n\u001b[0;32m-> 2357\u001b[0m     result \u001b[39m=\u001b[39m fn(\u001b[39m*\u001b[39;49margs, \u001b[39m*\u001b[39;49m\u001b[39m*\u001b[39;49mkwargs)\n\u001b[1;32m   2358\u001b[0m \u001b[39mreturn\u001b[39;00m result\n",
      "File \u001b[0;32m/opt/homebrew/Caskroom/miniforge/base/envs/m154env/lib/python3.10/site-packages/rpy2/ipython/rmagic.py:795\u001b[0m, in \u001b[0;36mRMagics.R\u001b[0;34m(self, line, cell, local_ns)\u001b[0m\n\u001b[1;32m    793\u001b[0m     \u001b[39mif\u001b[39;00m \u001b[39mnot\u001b[39;00m e\u001b[39m.\u001b[39mstdout\u001b[39m.\u001b[39mendswith(e\u001b[39m.\u001b[39merr):\n\u001b[1;32m    794\u001b[0m         \u001b[39mprint\u001b[39m(e\u001b[39m.\u001b[39merr)\n\u001b[0;32m--> 795\u001b[0m     \u001b[39mraise\u001b[39;00m e\n\u001b[1;32m    796\u001b[0m \u001b[39mfinally\u001b[39;00m:\n\u001b[1;32m    797\u001b[0m     \u001b[39mif\u001b[39;00m \u001b[39mself\u001b[39m\u001b[39m.\u001b[39mdevice \u001b[39min\u001b[39;00m [\u001b[39m'\u001b[39m\u001b[39mpng\u001b[39m\u001b[39m'\u001b[39m, \u001b[39m'\u001b[39m\u001b[39msvg\u001b[39m\u001b[39m'\u001b[39m]:\n",
      "File \u001b[0;32m/opt/homebrew/Caskroom/miniforge/base/envs/m154env/lib/python3.10/site-packages/rpy2/ipython/rmagic.py:775\u001b[0m, in \u001b[0;36mRMagics.R\u001b[0;34m(self, line, cell, local_ns)\u001b[0m\n\u001b[1;32m    773\u001b[0m         return_output \u001b[39m=\u001b[39m \u001b[39mFalse\u001b[39;00m\n\u001b[1;32m    774\u001b[0m \u001b[39melse\u001b[39;00m:\n\u001b[0;32m--> 775\u001b[0m     text_result, result, visible \u001b[39m=\u001b[39m \u001b[39mself\u001b[39;49m\u001b[39m.\u001b[39;49meval(code)\n\u001b[1;32m    776\u001b[0m     text_output \u001b[39m+\u001b[39m\u001b[39m=\u001b[39m text_result\n\u001b[1;32m    777\u001b[0m     \u001b[39mif\u001b[39;00m visible:\n",
      "File \u001b[0;32m/opt/homebrew/Caskroom/miniforge/base/envs/m154env/lib/python3.10/site-packages/rpy2/ipython/rmagic.py:284\u001b[0m, in \u001b[0;36mRMagics.eval\u001b[0;34m(self, code)\u001b[0m\n\u001b[1;32m    281\u001b[0m \u001b[39mexcept\u001b[39;00m (ri\u001b[39m.\u001b[39membedded\u001b[39m.\u001b[39mRRuntimeError, \u001b[39mValueError\u001b[39;00m) \u001b[39mas\u001b[39;00m exception:\n\u001b[1;32m    282\u001b[0m     \u001b[39m# Otherwise next return seems to have copy of error.\u001b[39;00m\n\u001b[1;32m    283\u001b[0m     warning_or_other_msg \u001b[39m=\u001b[39m \u001b[39mself\u001b[39m\u001b[39m.\u001b[39mflush()\n\u001b[0;32m--> 284\u001b[0m     \u001b[39mraise\u001b[39;00m RInterpreterError(code, \u001b[39mstr\u001b[39m(exception),\n\u001b[1;32m    285\u001b[0m                             warning_or_other_msg)\n\u001b[1;32m    286\u001b[0m text_output \u001b[39m=\u001b[39m \u001b[39mself\u001b[39m\u001b[39m.\u001b[39mflush()\n\u001b[1;32m    287\u001b[0m \u001b[39mreturn\u001b[39;00m text_output, value, visible[\u001b[39m0\u001b[39m]\n",
      "\u001b[0;31mRInterpreterError\u001b[0m: Failed to parse and evaluate line 'imp_train_X <- missForest(training_data)$ximp\\n'.\nR error message: 'Error in randomForest.default(x = obsX, y = obsY, ntree = ntree, mtry = mtry,  : \\n  Can not handle categorical predictors with more than 53 categories.'"
     ]
    }
   ],
   "source": [
    "%%R\n",
    "imp_train_X <- missForest(training_data)$ximp"
   ]
  }
 ],
 "metadata": {
  "kernelspec": {
   "display_name": "Python 3.10.6 ('m154env')",
   "language": "python",
   "name": "python3"
  },
  "language_info": {
   "codemirror_mode": {
    "name": "ipython",
    "version": 3
   },
   "file_extension": ".py",
   "mimetype": "text/x-python",
   "name": "python",
   "nbconvert_exporter": "python",
   "pygments_lexer": "ipython3",
   "version": "3.10.6"
  },
  "vscode": {
   "interpreter": {
    "hash": "c6e244dd35c83ee1d23c25d30d19b3f743c34e80fa56282ef16d553800722480"
   }
  }
 },
 "nbformat": 4,
 "nbformat_minor": 2
}
