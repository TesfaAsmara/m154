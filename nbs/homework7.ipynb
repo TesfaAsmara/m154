{
 "cells": [
  {
   "cell_type": "markdown",
   "id": "22f4a6ef",
   "metadata": {},
   "source": [
    "1. Find a classification problem at UCI Machine Learning Repository (https://archive.ics.uci.edu/ml/index.php) or similar, and compare the classification performance of a trained $k-$NN learner with that of a trained SVM (support vector machine).  Explore using the *tune* function in the library *e1071* which contains an implementation of SVMs. Write a paragraph discussing your results.  "
   ]
  },
  {
   "cell_type": "code",
   "execution_count": 1,
   "id": "5890f213",
   "metadata": {},
   "outputs": [],
   "source": [
    "from sklearn.model_selection import train_test_split\n",
    "from sklearn.datasets import make_classification\n",
    "\n",
    "X, y = make_classification(n_samples = 1000, n_features = 10,n_informative = 2, n_redundant = 0,random_state = 0, shuffle = False)\n",
    "X_train, X_test, y_train, y_test = train_test_split(X, y, test_size = 0.2, random_state =1234)"
   ]
  },
  {
   "cell_type": "code",
   "execution_count": 2,
   "id": "7ee21419",
   "metadata": {},
   "outputs": [
    {
     "data": {
      "text/plain": [
       "0.965"
      ]
     },
     "execution_count": 2,
     "metadata": {},
     "output_type": "execute_result"
    }
   ],
   "source": [
    "from sklearn.pipeline import make_pipeline\n",
    "from sklearn.preprocessing import StandardScaler\n",
    "from sklearn.svm import SVC\n",
    "\n",
    "clf = make_pipeline(StandardScaler(), SVC(gamma='auto'))\n",
    "clf.fit(X, y)\n",
    "clf.score(X_test, y_test)"
   ]
  },
  {
   "cell_type": "code",
   "execution_count": 3,
   "id": "4957d231",
   "metadata": {},
   "outputs": [
    {
     "data": {
      "text/plain": [
       "0.955"
      ]
     },
     "execution_count": 3,
     "metadata": {},
     "output_type": "execute_result"
    }
   ],
   "source": [
    "from sklearn.neighbors import KNeighborsClassifier\n",
    "neigh = KNeighborsClassifier(n_neighbors=3)\n",
    "neigh.fit(X, y)\n",
    "neigh.score(X_test, y_test)"
   ]
  },
  {
   "cell_type": "markdown",
   "id": "da230a9c",
   "metadata": {},
   "source": [
    "The trained SVM scored 96.5% accuracy on a classification problem similar to the UCI Machine Learning Repository. The $k$-NN learner scored 95.5% accuracy. Coding is cool!"
   ]
  }
 ],
 "metadata": {
  "kernelspec": {
   "display_name": "m154",
   "language": "python",
   "name": "m154"
  },
  "language_info": {
   "codemirror_mode": {
    "name": "ipython",
    "version": 3
   },
   "file_extension": ".py",
   "mimetype": "text/x-python",
   "name": "python",
   "nbconvert_exporter": "python",
   "pygments_lexer": "ipython3",
   "version": "3.7.7"
  }
 },
 "nbformat": 4,
 "nbformat_minor": 5
}
